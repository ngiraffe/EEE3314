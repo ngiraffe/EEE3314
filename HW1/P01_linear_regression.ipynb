{
 "cells": [
  {
   "cell_type": "markdown",
   "metadata": {},
   "source": [
    "> ### EEE3314-02: Introduction to Artificial Intelligence\n",
    "\n",
    "# Assignment \\# I: Linear Regression"
   ]
  },
  {
   "cell_type": "markdown",
   "metadata": {},
   "source": [
    "<div style=\"text-align: right\"> **Due date: Sep. 21, 2018.** </div> \n",
    "<div style=\"text-align: right\"> **Please upload your file @ yscec by 9 PM in the form of [ID_Name_HW1.ipynb].** </div> \n",
    "<div style=\"text-align: right\"> Beomjun Kim(김범준): <a href=\"mailto:beomjun.kim@yonsei.ac.kr\">beomjun.kim@yonsei.ac.kr</a> </div>\n",
    "<div style=\"text-align: right\"> Chanho Um(엄찬호): <a href=\"mailto:chanho0103@yonsei.ac.kr\">chanho0103@yonsei.ac.kr</a> </div>"
   ]
  },
  {
   "cell_type": "markdown",
   "metadata": {},
   "source": [
    "### *Assignement Instructions:*\n",
    "- Write a program implementing a particular algorithm to solve a given problem.   \n",
    "- <h4><span style=\"color:red\">**Report and discuss your results. Analyze the algorithm, theoretically and empirically. **</span> </h4>\n",
    "\n",
    "### *Collaboration policy:*\n",
    "- You may discuss the questions.   \n",
    "- Each student writes their own answers.   \n",
    "- **Write on your homework anyone with whom you collaborate.**   \n",
    "- Each student must write their own code (<span style=\"color:red\">**if not you will get a F grade**</span>)."
   ]
  },
  {
   "cell_type": "markdown",
   "metadata": {},
   "source": [
    "<h2><span style=\"color:blue\">[Insert your ID HERE] [Insert your name HERE]</span> </h2>"
   ]
  },
  {
   "cell_type": "code",
   "execution_count": 19,
   "metadata": {},
   "outputs": [
    {
     "name": "stdout",
     "output_type": "stream",
     "text": [
      "This code is written at 2018-07-23 16:25:39.095536\n"
     ]
    }
   ],
   "source": [
    "import datetime\n",
    "print(\"This code is written at \" + str(datetime.datetime.now()))"
   ]
  },
  {
   "cell_type": "markdown",
   "metadata": {},
   "source": [
    "## Problem description"
   ]
  },
  {
   "cell_type": "markdown",
   "metadata": {},
   "source": [
    "Let's estimate an exam score for machine intelligence given two other ones for circuits and data structures. Scores for 1,000 students are available ($\\texttt{exam_scores.csv}$). You can use $\\texttt{linalg.inv}$, transpose, dot operators provided by $\\texttt{Numpy}$ when writing codes."
   ]
  },
  {
   "cell_type": "markdown",
   "metadata": {},
   "source": [
    "**I. Score distributions**   \n",
    "(*5 points*) P1.1 Draw a scatter plot for score distributions (X axis: scores for circuits, Y axis: scores for data structures, Z axis: scores for machine intelligence). You can use '$\\texttt{scatter}$' from $\\texttt{matplotlib.pyplot}$, and '$\\texttt{Axes3D}$' from $\\texttt{mpl_toolkits.mplot3d}$. "
   ]
  },
  {
   "cell_type": "markdown",
   "metadata": {},
   "source": [
    "**II. Linear regression using gradient descent**   \n",
    "(*40 points*) P2.1 Implement a linear regression method using **gradient descent** and estimate regression coefficients $w_0$, $w_1$, $w_2$ for a bias, a circuit score, and a data structure score, respectively. \n",
    "\n",
    "> a. Learning rate = 0.0001   \n",
    "> b. Number of iterations = 1,000,000    \n",
    "> c. Loss function = average RSS (i.e., (1/N)*RSS where N(=1,000) is a total number of samples)   \n",
    "> d. Initialize all weight values to 0.\n",
    "\n",
    "(*10 points*) P2.2 Plot an average RSS over number of iterations.  \n",
    "(*10 points*) P2.3 Draw a plane using estimated regression coefficients ($w_0$, $w_1$, $w_2$). You can use $\\texttt{plot_wireframe}$ and $\\texttt{meshgrid}$. "
   ]
  },
  {
   "cell_type": "markdown",
   "metadata": {},
   "source": [
    "**III. Linear regression without iterations**      \n",
    "(*30 points*) P3.1 Implement a linear regression method without iterations (**closed form soultion**) and estimate weights $w_0$, $w_1$, $w_2$ for a bias, a circuit score, and a data structure score, respectively.   \n",
    "(*5 points*) P3.2 Draw a plane using estimated regression coefficients and compare it with your plot in P2.3."
   ]
  },
  {
   "cell_type": "code",
   "execution_count": null,
   "metadata": {},
   "outputs": [],
   "source": []
  }
 ],
 "metadata": {
  "kernelspec": {
   "display_name": "Python [conda env:anaconda]",
   "language": "python",
   "name": "conda-env-anaconda-py"
  },
  "language_info": {
   "codemirror_mode": {
    "name": "ipython",
    "version": 3
   },
   "file_extension": ".py",
   "mimetype": "text/x-python",
   "name": "python",
   "nbconvert_exporter": "python",
   "pygments_lexer": "ipython3",
   "version": "3.6.4"
  }
 },
 "nbformat": 4,
 "nbformat_minor": 2
}
