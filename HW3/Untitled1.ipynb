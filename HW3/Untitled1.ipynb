{
 "cells": [
  {
   "cell_type": "code",
   "execution_count": 1,
   "metadata": {},
   "outputs": [],
   "source": [
    "import pandas as pd\n",
    "import numpy as np\n",
    "import matplotlib.pyplot as plt\n",
    "\n",
    "# Data load\n",
    "data = pd.read_csv('logistic_regression_training_data.csv') \n",
    "test_data = pd.read_csv('logistic_regression_testing_data.csv')\n",
    "\n",
    "data_np = data.values  # Change dataframe object to numpy array\n",
    "test_data_np = test_data.values\n",
    "\n",
    "y = data_np[:,0] # Data preprocessing\n",
    "X = data_np[:,1:]\n",
    "y_t = test_data_np[:,0]\n",
    "X_t = test_data_np[:,1:]\n",
    "N = len(data['label'].values)\n",
    "N_t = len(test_data['label'].values)\n",
    "X2 = np.c_[np.ones(N), X] # Consider Intercept term \n",
    "X2_t = np.c_[np.ones(N_t), X_t]\n",
    "\n",
    "w_init = np.zeros(len(X2[0,:]))\n",
    "\n",
    "\n",
    "def indic(y,p_y):\n",
    "    if y == p_y:\n",
    "        return 1\n",
    "    else :\n",
    "        return 0 \n",
    "\n",
    "def sigmoid(x):\n",
    "    return 1/(1 + np.exp(-x))"
   ]
  },
  {
   "cell_type": "code",
   "execution_count": null,
   "metadata": {},
   "outputs": [],
   "source": [
    "def predict()"
   ]
  }
 ],
 "metadata": {
  "kernelspec": {
   "display_name": "Python 3",
   "language": "python",
   "name": "python3"
  },
  "language_info": {
   "codemirror_mode": {
    "name": "ipython",
    "version": 3
   },
   "file_extension": ".py",
   "mimetype": "text/x-python",
   "name": "python",
   "nbconvert_exporter": "python",
   "pygments_lexer": "ipython3",
   "version": "3.6.5"
  }
 },
 "nbformat": 4,
 "nbformat_minor": 2
}
