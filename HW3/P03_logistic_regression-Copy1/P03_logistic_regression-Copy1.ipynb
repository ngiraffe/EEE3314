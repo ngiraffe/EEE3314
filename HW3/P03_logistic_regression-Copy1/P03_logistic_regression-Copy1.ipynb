{
 "cells": [
  {
   "cell_type": "markdown",
   "metadata": {},
   "source": [
    "> ### EEE3314-02: Introduction to Artificial Intelligence\n",
    "\n",
    "# Assignment \\# III: Logistic Regression"
   ]
  },
  {
   "cell_type": "markdown",
   "metadata": {},
   "source": [
    "<div style=\"text-align: right\"> **Due date: Nov. 2, 2018.** </div> \n",
    "<div style=\"text-align: right\"> **Please upload your file @ yscec by 9 PM.** </div> \n",
    "<h4><div style=\"text-align: right\"> **For one day late (70% credit), please send your file to your TAs in the form of [ID_Name_HW3.ipynb].**</div> </h4>\n",
    "<div style=\"text-align: right\"> Beomjun Kim(김범준): <a href=\"mailto:beomjun.kim@yonsei.ac.kr\">beomjun.kim@yonsei.ac.kr</a> </div>\n",
    "<div style=\"text-align: right\"> Chanho Um(엄찬호): <a href=\"mailto:chanho0103@yonsei.ac.kr\">chanho0103@yonsei.ac.kr</a> </div>"
   ]
  },
  {
   "cell_type": "markdown",
   "metadata": {},
   "source": [
    "### *Assignement Instructions:*\n",
    "- Write a program implementing a particular algorithm to solve a given problem.   \n",
    "- <h4><span style=\"color:red\">**Report and discuss your results. Analyze the algorithm, theoretically and empirically. **</span> </h4>\n",
    "\n",
    "### *Collaboration policy:*\n",
    "- You may discuss the questions.   \n",
    "- Each student writes their own answers.   \n",
    "- **Write on your homework anyone with whom you collaborate.**   \n",
    "- Each student must write their own code for the programming part (**if not you will get a F grade**)."
   ]
  },
  {
   "cell_type": "markdown",
   "metadata": {},
   "source": [
    "<h2><span style=\"color:blue\">[Insert your ID HERE] [Insert your name HERE]</span> </h2>"
   ]
  },
  {
   "cell_type": "code",
   "execution_count": 1,
   "metadata": {},
   "outputs": [
    {
     "name": "stdout",
     "output_type": "stream",
     "text": [
      "This code is written at 2018-10-30 20:54:58.867941\n"
     ]
    }
   ],
   "source": [
    "import datetime\n",
    "print(\"This code is written at \" + str(datetime.datetime.now()))"
   ]
  },
  {
   "cell_type": "markdown",
   "metadata": {},
   "source": [
    "## Problem description"
   ]
  },
  {
   "cell_type": "markdown",
   "metadata": {},
   "source": [
    "We will implement Stochastic Gradient Descent (SGD) to optimize a logistic regression model to predict whether a given patient have diabetes or not. In clinical informatics, machine learning approahces have been widely adopted to predict clinically adverse events based on patient data. For this problem, we will use the Pima Indians Diabetes Data Set. The data on each patient include:\n",
    "\n",
    "- $\\texttt{label}$: The output class variable (0 - normal or 1 - diabetes)  \n",
    "- $\\texttt{num_preg}$: Number of times pregnant \n",
    "- $\\texttt{PGC}$: Plasma glucose concentration at 2 hours in an oral glucose tolerance test (PGC)\n",
    "- $\\texttt{DBP}$: Diastolic blood pressure (DBP)\n",
    "- $\\texttt{tricept}$: Triceps skin fold thickness (tricept, unit: mm)  \n",
    "- $\\texttt{insulin}$: 2-Hour serum insulin (insulin, unit: μU/ml)\n",
    "- $\\texttt{BMI}$: Body mass index (BMI)\n",
    "- $\\texttt{ped_func}$: Diabetes pedigree function\n",
    "- $\\texttt{age}$: Age (age, years)\n",
    "\n",
    "Among all 768 patients, we will separate 500 patients as training data ($\\texttt{logistic_regression_training_data.csv}$) and 268 patients as test data ($\\texttt{logistic_regression_test_data.csv}$)."
   ]
  },
  {
   "cell_type": "markdown",
   "metadata": {},
   "source": [
    "### I. Logistic regression method using SGD\n",
    "(*50 points*) P1.1 Implement a logistic regression method using SGD. You may assume that the data is randomly ordered. \n",
    "\n",
    "(*10 points*) P1.2 Plot $\\bar L$ every 100 iterations, e.g., [100, 200, 300,...], defined as\n",
    "\n",
    "$\\begin{equation} \\bar L(T) = \\frac{1}{T}\\sum_{t=1}^{T} (\\hat y^t - y^t)^2 \\end{equation}$,   \n",
    "where $T$ is the number of iterations and $\\hat y^t$ (either 0 or 1) is the predicted label for sample $\\bf{x}^t$ using the weights $\\bf{w}^{t-1}$. \n",
    "\n",
    "> Initialize the weight vector $w$ and the bias $w_0$ to 0.    \n",
    "> Learning rate = 0.8.    \n",
    "> Number of iterations = 100,000.\n",
    "\n",
    "(*10 points*) P1.3 Use the model weights to predict whether each patient in the test set has diabetes, for every 100 steps. Plot sum of squared errors of your prediction."
   ]
  },
  {
   "cell_type": "markdown",
   "metadata": {},
   "source": [
    "**P. 1-1**"
   ]
  },
  {
   "cell_type": "code",
   "execution_count": 49,
   "metadata": {},
   "outputs": [],
   "source": [
    "import numpy as np\n",
    "import pandas as pd\n",
    "import matplotlib.pyplot as plt\n",
    "from copy import deepcopy\n",
    "\n",
    "import math\n",
    "from mpl_toolkits.mplot3d import Axes3D\n",
    "\n",
    "from random import randint\n",
    "\n",
    "def sigmoid(x):\n",
    "    if x < 0:\n",
    "        return 1 - 1/(1 + math.exp(x))\n",
    "    else:\n",
    "        return 1/(1 + math.exp(-x))\n",
    "    \n",
    "sigmoid_v = np.vectorize(sigmoid)"
   ]
  },
  {
   "cell_type": "code",
   "execution_count": 3,
   "metadata": {},
   "outputs": [
    {
     "name": "stdout",
     "output_type": "stream",
     "text": [
      "(500, 9)\n"
     ]
    },
    {
     "data": {
      "text/html": [
       "<div>\n",
       "<style scoped>\n",
       "    .dataframe tbody tr th:only-of-type {\n",
       "        vertical-align: middle;\n",
       "    }\n",
       "\n",
       "    .dataframe tbody tr th {\n",
       "        vertical-align: top;\n",
       "    }\n",
       "\n",
       "    .dataframe thead th {\n",
       "        text-align: right;\n",
       "    }\n",
       "</style>\n",
       "<table border=\"1\" class=\"dataframe\">\n",
       "  <thead>\n",
       "    <tr style=\"text-align: right;\">\n",
       "      <th></th>\n",
       "      <th>label</th>\n",
       "      <th>num_preg</th>\n",
       "      <th>PGC</th>\n",
       "      <th>DBP</th>\n",
       "      <th>tricept</th>\n",
       "      <th>insulin</th>\n",
       "      <th>BMI</th>\n",
       "      <th>ped_func</th>\n",
       "      <th>age</th>\n",
       "    </tr>\n",
       "  </thead>\n",
       "  <tbody>\n",
       "    <tr>\n",
       "      <th>0</th>\n",
       "      <td>1</td>\n",
       "      <td>0.470588</td>\n",
       "      <td>0.758794</td>\n",
       "      <td>0.639344</td>\n",
       "      <td>0.507937</td>\n",
       "      <td>0.35</td>\n",
       "      <td>0.639344</td>\n",
       "      <td>0.187020</td>\n",
       "      <td>0.250000</td>\n",
       "    </tr>\n",
       "    <tr>\n",
       "      <th>1</th>\n",
       "      <td>1</td>\n",
       "      <td>0.235294</td>\n",
       "      <td>0.663317</td>\n",
       "      <td>0.000000</td>\n",
       "      <td>0.000000</td>\n",
       "      <td>0.00</td>\n",
       "      <td>0.490313</td>\n",
       "      <td>0.095645</td>\n",
       "      <td>0.033333</td>\n",
       "    </tr>\n",
       "    <tr>\n",
       "      <th>2</th>\n",
       "      <td>0</td>\n",
       "      <td>0.058824</td>\n",
       "      <td>0.467337</td>\n",
       "      <td>0.459016</td>\n",
       "      <td>0.174603</td>\n",
       "      <td>0.00</td>\n",
       "      <td>0.335320</td>\n",
       "      <td>0.144748</td>\n",
       "      <td>0.016667</td>\n",
       "    </tr>\n",
       "    <tr>\n",
       "      <th>3</th>\n",
       "      <td>0</td>\n",
       "      <td>0.058824</td>\n",
       "      <td>0.547739</td>\n",
       "      <td>0.311475</td>\n",
       "      <td>0.285714</td>\n",
       "      <td>0.20</td>\n",
       "      <td>0.344262</td>\n",
       "      <td>0.140478</td>\n",
       "      <td>0.083333</td>\n",
       "    </tr>\n",
       "    <tr>\n",
       "      <th>4</th>\n",
       "      <td>1</td>\n",
       "      <td>0.176471</td>\n",
       "      <td>0.869347</td>\n",
       "      <td>0.688525</td>\n",
       "      <td>0.523810</td>\n",
       "      <td>0.79</td>\n",
       "      <td>0.532042</td>\n",
       "      <td>0.076857</td>\n",
       "      <td>0.016667</td>\n",
       "    </tr>\n",
       "  </tbody>\n",
       "</table>\n",
       "</div>"
      ],
      "text/plain": [
       "   label  num_preg       PGC       DBP   tricept  insulin       BMI  ped_func  \\\n",
       "0      1  0.470588  0.758794  0.639344  0.507937     0.35  0.639344  0.187020   \n",
       "1      1  0.235294  0.663317  0.000000  0.000000     0.00  0.490313  0.095645   \n",
       "2      0  0.058824  0.467337  0.459016  0.174603     0.00  0.335320  0.144748   \n",
       "3      0  0.058824  0.547739  0.311475  0.285714     0.20  0.344262  0.140478   \n",
       "4      1  0.176471  0.869347  0.688525  0.523810     0.79  0.532042  0.076857   \n",
       "\n",
       "        age  \n",
       "0  0.250000  \n",
       "1  0.033333  \n",
       "2  0.016667  \n",
       "3  0.083333  \n",
       "4  0.016667  "
      ]
     },
     "execution_count": 3,
     "metadata": {},
     "output_type": "execute_result"
    }
   ],
   "source": [
    "data = pd.read_csv('logistic_regression_training_data.csv')\n",
    "print(data.shape)\n",
    "data.head()"
   ]
  },
  {
   "cell_type": "code",
   "execution_count": 4,
   "metadata": {},
   "outputs": [],
   "source": [
    "Y = data['label'].values\n",
    "Y.shape = (500,1)\n",
    "X_total = data.iloc[:,1:data.shape[1]]  \n",
    "x = X_total.values"
   ]
  },
  {
   "cell_type": "code",
   "execution_count": 5,
   "metadata": {},
   "outputs": [
    {
     "data": {
      "text/plain": [
       "(1, 8)"
      ]
     },
     "execution_count": 5,
     "metadata": {},
     "output_type": "execute_result"
    }
   ],
   "source": [
    "x[0:1,:].shape\n"
   ]
  },
  {
   "cell_type": "code",
   "execution_count": 6,
   "metadata": {},
   "outputs": [
    {
     "data": {
      "text/plain": [
       "(500, 8)"
      ]
     },
     "execution_count": 6,
     "metadata": {},
     "output_type": "execute_result"
    }
   ],
   "source": [
    "x.shape"
   ]
  },
  {
   "cell_type": "code",
   "execution_count": 7,
   "metadata": {},
   "outputs": [],
   "source": [
    "w = np.zeros(X_total.shape[1])\n",
    "w.shape = (8,1)\n",
    "\n",
    "def SGD(w,num_data,num_iterations):\n",
    "    \n",
    "    for m in range(num_iterations):\n",
    "        if m % 500 == 0:\n",
    "            n = 0\n",
    "        else:\n",
    "            n = n+1\n",
    "        p = sigmoid(np.dot(x[n:n+1,:],w))\n",
    "        q = (Y[n,0] - p)\n",
    "    \n",
    "        for k in range (8):\n",
    "            w[k,0] = w[k,0] + 0.8*x[n,k]*q \n",
    "            \n",
    "        print(w.T)\n",
    "    \n",
    "    return w"
   ]
  },
  {
   "cell_type": "code",
   "execution_count": 8,
   "metadata": {},
   "outputs": [
    {
     "name": "stdout",
     "output_type": "stream",
     "text": [
      "[[0.18823529 0.30351759 0.2557377  0.2031746  0.14       0.2557377\n",
      "  0.07480786 0.1       ]]\n",
      "[[0.26461468 0.51883836 0.2557377  0.2031746  0.14       0.41489936\n",
      "  0.10585533 0.11082041]]\n",
      "[[0.23458571 0.28026655 0.02141333 0.11404101 0.14       0.24372085\n",
      "  0.03196253 0.10231221]]\n",
      "[[ 0.2071918   0.02518656 -0.12363967 -0.01901513  0.0468607   0.0833991\n",
      "  -0.03345768  0.06350417]]\n",
      "[[ 0.27625386  0.36540683  0.14581556  0.18597859  0.3560285   0.29161451\n",
      "  -0.00337942  0.07002669]]\n",
      "[[ 0.1561317   0.12169165 -0.10525944 -0.07333273  0.3560285   0.02227951\n",
      "  -0.04828418  0.01046612]]\n",
      "[[ 0.10705036 -0.08585583 -0.10525944 -0.07333273  0.3560285  -0.11574805\n",
      "  -0.05362822 -0.00344026]]\n",
      "[[ 0.08506407 -0.23611389 -0.33197052 -0.13859362  0.31865181 -0.28285695\n",
      "  -0.12528549 -0.00966971]]\n",
      "[[ 0.19954639  0.06461793 -0.08470748 -0.13859362  0.31865181 -0.05082125\n",
      "  -0.09453853  0.10385859]]\n",
      "[[ 0.19954639 -0.11719359 -0.30631381 -0.340543    0.17949606 -0.28724085\n",
      "  -0.1459771   0.07735274]]\n",
      "[[ 0.19954639 -0.23946138 -0.52076199 -0.50250243  0.14810085 -0.45645995\n",
      "  -0.25132042  0.01630649]]\n",
      "[[ 0.16908602 -0.36826741 -0.64809632 -0.57236788  0.07905735 -0.5976853\n",
      "  -0.29277747  0.01630649]]\n",
      "[[ 0.27911587  0.16750609 -0.28012763 -0.24577134  0.21934541 -0.28825709\n",
      "  -0.26056406  0.04748161]]\n",
      "[[ 0.09959111 -0.0625382  -0.28012763 -0.24577134  0.21934541 -0.28825709\n",
      "  -0.30282258  0.02568218]]\n",
      "[[ 0.09959111 -0.19216228 -0.48652944 -0.39687696  0.15536924 -0.46308079\n",
      "  -0.32314635  0.01544599]]\n",
      "[[ 0.05450479 -0.33467131 -0.6079915  -0.52259384  0.13663337 -0.57540464\n",
      "  -0.36154608  0.01118784]]\n",
      "[[ 0.08863244  0.16969763 -0.25608507 -0.52259384  0.13663337 -0.25721898\n",
      "  -0.35906884  0.17556935]]\n",
      "[[ 0.03991775 -0.077915   -0.25608507 -0.52259384  0.13663337 -0.37817081\n",
      "  -0.49237904 -0.17639432]]\n",
      "[[ 0.02279161 -0.22421867 -0.41358937 -0.59191392  0.1094599  -0.4805703\n",
      "  -0.5654759  -0.20065634]]\n",
      "[[ 0.00647228 -0.35944773 -0.57276976 -0.65796836  0.1094599  -0.55581921\n",
      "  -0.5736495  -0.20065634]]\n"
     ]
    }
   ],
   "source": [
    "w1 = SGD(w,Y.shape[0],20)"
   ]
  },
  {
   "cell_type": "markdown",
   "metadata": {},
   "source": [
    "**P.1-2**"
   ]
  },
  {
   "cell_type": "code",
   "execution_count": 28,
   "metadata": {},
   "outputs": [],
   "source": [
    "\n",
    "def L_MAX(max_num_iterations):\n",
    "    ii = int(max_num_iterations/100)\n",
    "    #print(ii)\n",
    "    array_l = np.zeros(ii)\n",
    "    array_l.shape = (1,ii)\n",
    "    w = np.zeros(X_total.shape[1])\n",
    "    w.shape = (8,1)\n",
    "\n",
    "    y_label = 0\n",
    "    L_sum = 0\n",
    "    for m in range(max_num_iterations):\n",
    "        #    i = randint(1,num_data)/\n",
    "        if m % 500 == 0:\n",
    "            n = 0\n",
    "        else:\n",
    "            n = n+1\n",
    "        #print(np.dot(x[n:n+1,:],w))\n",
    "        p = sigmoid(np.dot(x[n:n+1,:],w))\n",
    "\n",
    "        q = (Y[n,0] - p)\n",
    "    \n",
    "        for k in range (8):\n",
    "            w[k,0] = w[k,0] + 0.8*x[n,k]*q \n",
    "        z = sigmoid(np.dot(x[n:n+1,:],w))\n",
    "        \n",
    "        if z>0.5:\n",
    "            y_Label = 1\n",
    "        else:\n",
    "            y_Label = 0\n",
    "\n",
    "        L_sum = L_sum + (y_Label-Y[n,0])**2\n",
    "        \n",
    "        if (m+1)%100 == 0:\n",
    "            array_l[0,(m+1)//100-1] = L_sum/(m+1)\n",
    "        \n",
    "\n",
    "\n",
    "    return array_l\n",
    "\n",
    "\n",
    "\n"
   ]
  },
  {
   "cell_type": "code",
   "execution_count": 29,
   "metadata": {
    "scrolled": true
   },
   "outputs": [],
   "source": [
    "\n",
    "arrayL = L_MAX(50000)"
   ]
  },
  {
   "cell_type": "code",
   "execution_count": 30,
   "metadata": {},
   "outputs": [],
   "source": [
    "arrayL.shape =(500)"
   ]
  },
  {
   "cell_type": "code",
   "execution_count": 31,
   "metadata": {},
   "outputs": [
    {
     "data": {
      "text/plain": [
       "array([0.18      , 0.175     , 0.17      , 0.1775    , 0.16      ,\n",
       "       0.16      , 0.16428571, 0.165     , 0.16888889, 0.16      ,\n",
       "       0.16      , 0.16333333, 0.16307692, 0.16642857, 0.16066667,\n",
       "       0.160625  , 0.16294118, 0.16277778, 0.16473684, 0.1605    ,\n",
       "       0.16047619, 0.16227273, 0.16217391, 0.16375   , 0.1604    ,\n",
       "       0.16038462, 0.16185185, 0.16178571, 0.16310345, 0.16033333,\n",
       "       0.16032258, 0.1615625 , 0.16151515, 0.16264706, 0.16028571,\n",
       "       0.16027778, 0.16135135, 0.16131579, 0.16230769, 0.16025   ,\n",
       "       0.1602439 , 0.16119048, 0.16116279, 0.16204545, 0.16022222,\n",
       "       0.16021739, 0.16106383, 0.16104167, 0.16183673, 0.1602    ,\n",
       "       0.16019608, 0.16096154, 0.1609434 , 0.16166667, 0.16018182,\n",
       "       0.16017857, 0.16087719, 0.16086207, 0.16152542, 0.16016667,\n",
       "       0.16016393, 0.16080645, 0.16079365, 0.16140625, 0.16015385,\n",
       "       0.16015152, 0.16074627, 0.16073529, 0.16130435, 0.16014286,\n",
       "       0.16014085, 0.16069444, 0.16068493, 0.16121622, 0.16013333,\n",
       "       0.16013158, 0.16064935, 0.16064103, 0.16113924, 0.160125  ,\n",
       "       0.16012346, 0.16060976, 0.16060241, 0.16107143, 0.16011765,\n",
       "       0.16011628, 0.16057471, 0.16056818, 0.16101124, 0.16011111,\n",
       "       0.16010989, 0.16054348, 0.16053763, 0.16095745, 0.16010526,\n",
       "       0.16010417, 0.16051546, 0.1605102 , 0.16090909, 0.1601    ,\n",
       "       0.16009901, 0.1604902 , 0.16048544, 0.16086538, 0.16009524,\n",
       "       0.16009434, 0.16046729, 0.16046296, 0.16082569, 0.16009091,\n",
       "       0.16009009, 0.16044643, 0.16044248, 0.16078947, 0.16008696,\n",
       "       0.16008621, 0.16042735, 0.16042373, 0.1607563 , 0.16008333,\n",
       "       0.16008264, 0.16040984, 0.1604065 , 0.16072581, 0.16008   ,\n",
       "       0.16007937, 0.1603937 , 0.16039063, 0.16069767, 0.16007692,\n",
       "       0.16007634, 0.16037879, 0.16037594, 0.16067164, 0.16007407,\n",
       "       0.16007353, 0.16036496, 0.16036232, 0.16064748, 0.16007143,\n",
       "       0.16007092, 0.16035211, 0.16034965, 0.160625  , 0.16006897,\n",
       "       0.16006849, 0.16034014, 0.16033784, 0.16060403, 0.16006667,\n",
       "       0.16006623, 0.16032895, 0.1603268 , 0.16058442, 0.16006452,\n",
       "       0.1600641 , 0.16031847, 0.16031646, 0.16056604, 0.1600625 ,\n",
       "       0.16006211, 0.16030864, 0.16030675, 0.16054878, 0.16006061,\n",
       "       0.16006024, 0.1602994 , 0.16029762, 0.16053254, 0.16005882,\n",
       "       0.16005848, 0.1602907 , 0.16028902, 0.16051724, 0.16005714,\n",
       "       0.16005682, 0.16028249, 0.1602809 , 0.16050279, 0.16005556,\n",
       "       0.16005525, 0.16027473, 0.16027322, 0.16048913, 0.16005405,\n",
       "       0.16005376, 0.16026738, 0.16026596, 0.16047619, 0.16005263,\n",
       "       0.16005236, 0.16026042, 0.16025907, 0.16046392, 0.16005128,\n",
       "       0.16005102, 0.16025381, 0.16025253, 0.16045226, 0.16005   ,\n",
       "       0.16004975, 0.16024752, 0.16024631, 0.16044118, 0.16004878,\n",
       "       0.16004854, 0.16024155, 0.16024038, 0.16043062, 0.16004762,\n",
       "       0.16004739, 0.16023585, 0.16023474, 0.16042056, 0.16004651,\n",
       "       0.1600463 , 0.16023041, 0.16022936, 0.16041096, 0.16004545,\n",
       "       0.16004525, 0.16022523, 0.16022422, 0.16040179, 0.16004444,\n",
       "       0.16004425, 0.16022026, 0.1602193 , 0.16039301, 0.16004348,\n",
       "       0.16004329, 0.16021552, 0.16021459, 0.16038462, 0.16004255,\n",
       "       0.16004237, 0.16021097, 0.16021008, 0.16037657, 0.16004167,\n",
       "       0.16004149, 0.16020661, 0.16020576, 0.16036885, 0.16004082,\n",
       "       0.16004065, 0.16020243, 0.16020161, 0.16036145, 0.16004   ,\n",
       "       0.16003984, 0.16019841, 0.16019763, 0.16035433, 0.16003922,\n",
       "       0.16003906, 0.16019455, 0.1601938 , 0.16034749, 0.16003846,\n",
       "       0.16003831, 0.16019084, 0.16019011, 0.16034091, 0.16003774,\n",
       "       0.16003759, 0.16018727, 0.16018657, 0.16033457, 0.16003704,\n",
       "       0.1600369 , 0.16018382, 0.16018315, 0.16032847, 0.16003636,\n",
       "       0.16003623, 0.16018051, 0.16017986, 0.16032258, 0.16003571,\n",
       "       0.16003559, 0.1601773 , 0.16017668, 0.1603169 , 0.16003509,\n",
       "       0.16003497, 0.16017422, 0.16017361, 0.16031142, 0.16003448,\n",
       "       0.16003436, 0.16017123, 0.16017065, 0.16030612, 0.1600339 ,\n",
       "       0.16003378, 0.16016835, 0.16016779, 0.160301  , 0.16003333,\n",
       "       0.16003322, 0.16016556, 0.16016502, 0.16029605, 0.16003279,\n",
       "       0.16003268, 0.16016287, 0.16016234, 0.16029126, 0.16003226,\n",
       "       0.16003215, 0.16016026, 0.16015974, 0.16028662, 0.16003175,\n",
       "       0.16003165, 0.16015773, 0.16015723, 0.16028213, 0.16003125,\n",
       "       0.16003115, 0.16015528, 0.1601548 , 0.16027778, 0.16003077,\n",
       "       0.16003067, 0.16015291, 0.16015244, 0.16027356, 0.1600303 ,\n",
       "       0.16003021, 0.1601506 , 0.16015015, 0.16026946, 0.16002985,\n",
       "       0.16002976, 0.16014837, 0.16014793, 0.16026549, 0.16002941,\n",
       "       0.16002933, 0.1601462 , 0.16014577, 0.16026163, 0.16002899,\n",
       "       0.1600289 , 0.16014409, 0.16014368, 0.16025788, 0.16002857,\n",
       "       0.16002849, 0.16014205, 0.16014164, 0.16025424, 0.16002817,\n",
       "       0.16002809, 0.16014006, 0.16013966, 0.1602507 , 0.16002778,\n",
       "       0.1600277 , 0.16013812, 0.16013774, 0.16024725, 0.1600274 ,\n",
       "       0.16002732, 0.16013624, 0.16013587, 0.1602439 , 0.16002703,\n",
       "       0.16002695, 0.16013441, 0.16013405, 0.16024064, 0.16002667,\n",
       "       0.1600266 , 0.16013263, 0.16013228, 0.16023747, 0.16002632,\n",
       "       0.16002625, 0.16013089, 0.16013055, 0.16023438, 0.16002597,\n",
       "       0.16002591, 0.1601292 , 0.16012887, 0.16023136, 0.16002564,\n",
       "       0.16002558, 0.16012755, 0.16012723, 0.16022843, 0.16002532,\n",
       "       0.16002525, 0.16012594, 0.16012563, 0.16022556, 0.160025  ,\n",
       "       0.16002494, 0.16012438, 0.16012407, 0.16022277, 0.16002469,\n",
       "       0.16002463, 0.16012285, 0.16012255, 0.16022005, 0.16002439,\n",
       "       0.16002433, 0.16012136, 0.16012107, 0.16021739, 0.1600241 ,\n",
       "       0.16002404, 0.1601199 , 0.16011962, 0.1602148 , 0.16002381,\n",
       "       0.16002375, 0.16011848, 0.1601182 , 0.16021226, 0.16002353,\n",
       "       0.16002347, 0.1601171 , 0.16011682, 0.16020979, 0.16002326,\n",
       "       0.1600232 , 0.16011574, 0.16011547, 0.16020737, 0.16002299,\n",
       "       0.16002294, 0.16011442, 0.16011416, 0.16020501, 0.16002273,\n",
       "       0.16002268, 0.16011312, 0.16011287, 0.1602027 , 0.16002247,\n",
       "       0.16002242, 0.16011186, 0.16011161, 0.16020045, 0.16002222,\n",
       "       0.16002217, 0.16011062, 0.16011038, 0.16019824, 0.16002198,\n",
       "       0.16002193, 0.16010941, 0.16010917, 0.16019608, 0.16002174,\n",
       "       0.16002169, 0.16010823, 0.16010799, 0.16019397, 0.16002151,\n",
       "       0.16002146, 0.16010707, 0.16010684, 0.1601919 , 0.16002128,\n",
       "       0.16002123, 0.16010593, 0.16010571, 0.16018987, 0.16002105,\n",
       "       0.16002101, 0.16010482, 0.1601046 , 0.16018789, 0.16002083,\n",
       "       0.16002079, 0.16010373, 0.16010352, 0.16018595, 0.16002062,\n",
       "       0.16002058, 0.16010267, 0.16010246, 0.16018405, 0.16002041,\n",
       "       0.16002037, 0.16010163, 0.16010142, 0.16018219, 0.1600202 ,\n",
       "       0.16002016, 0.1601006 , 0.1601004 , 0.16018036, 0.16002   ])"
      ]
     },
     "execution_count": 31,
     "metadata": {},
     "output_type": "execute_result"
    }
   ],
   "source": [
    "arrayL"
   ]
  },
  {
   "cell_type": "code",
   "execution_count": 32,
   "metadata": {},
   "outputs": [
    {
     "data": {
      "text/plain": [
       "array([  100,   200,   300,   400,   500,   600,   700,   800,   900,\n",
       "        1000,  1100,  1200,  1300,  1400,  1500,  1600,  1700,  1800,\n",
       "        1900,  2000,  2100,  2200,  2300,  2400,  2500,  2600,  2700,\n",
       "        2800,  2900,  3000,  3100,  3200,  3300,  3400,  3500,  3600,\n",
       "        3700,  3800,  3900,  4000,  4100,  4200,  4300,  4400,  4500,\n",
       "        4600,  4700,  4800,  4900,  5000,  5100,  5200,  5300,  5400,\n",
       "        5500,  5600,  5700,  5800,  5900,  6000,  6100,  6200,  6300,\n",
       "        6400,  6500,  6600,  6700,  6800,  6900,  7000,  7100,  7200,\n",
       "        7300,  7400,  7500,  7600,  7700,  7800,  7900,  8000,  8100,\n",
       "        8200,  8300,  8400,  8500,  8600,  8700,  8800,  8900,  9000,\n",
       "        9100,  9200,  9300,  9400,  9500,  9600,  9700,  9800,  9900,\n",
       "       10000, 10100, 10200, 10300, 10400, 10500, 10600, 10700, 10800,\n",
       "       10900, 11000, 11100, 11200, 11300, 11400, 11500, 11600, 11700,\n",
       "       11800, 11900, 12000, 12100, 12200, 12300, 12400, 12500, 12600,\n",
       "       12700, 12800, 12900, 13000, 13100, 13200, 13300, 13400, 13500,\n",
       "       13600, 13700, 13800, 13900, 14000, 14100, 14200, 14300, 14400,\n",
       "       14500, 14600, 14700, 14800, 14900, 15000, 15100, 15200, 15300,\n",
       "       15400, 15500, 15600, 15700, 15800, 15900, 16000, 16100, 16200,\n",
       "       16300, 16400, 16500, 16600, 16700, 16800, 16900, 17000, 17100,\n",
       "       17200, 17300, 17400, 17500, 17600, 17700, 17800, 17900, 18000,\n",
       "       18100, 18200, 18300, 18400, 18500, 18600, 18700, 18800, 18900,\n",
       "       19000, 19100, 19200, 19300, 19400, 19500, 19600, 19700, 19800,\n",
       "       19900, 20000, 20100, 20200, 20300, 20400, 20500, 20600, 20700,\n",
       "       20800, 20900, 21000, 21100, 21200, 21300, 21400, 21500, 21600,\n",
       "       21700, 21800, 21900, 22000, 22100, 22200, 22300, 22400, 22500,\n",
       "       22600, 22700, 22800, 22900, 23000, 23100, 23200, 23300, 23400,\n",
       "       23500, 23600, 23700, 23800, 23900, 24000, 24100, 24200, 24300,\n",
       "       24400, 24500, 24600, 24700, 24800, 24900, 25000, 25100, 25200,\n",
       "       25300, 25400, 25500, 25600, 25700, 25800, 25900, 26000, 26100,\n",
       "       26200, 26300, 26400, 26500, 26600, 26700, 26800, 26900, 27000,\n",
       "       27100, 27200, 27300, 27400, 27500, 27600, 27700, 27800, 27900,\n",
       "       28000, 28100, 28200, 28300, 28400, 28500, 28600, 28700, 28800,\n",
       "       28900, 29000, 29100, 29200, 29300, 29400, 29500, 29600, 29700,\n",
       "       29800, 29900, 30000, 30100, 30200, 30300, 30400, 30500, 30600,\n",
       "       30700, 30800, 30900, 31000, 31100, 31200, 31300, 31400, 31500,\n",
       "       31600, 31700, 31800, 31900, 32000, 32100, 32200, 32300, 32400,\n",
       "       32500, 32600, 32700, 32800, 32900, 33000, 33100, 33200, 33300,\n",
       "       33400, 33500, 33600, 33700, 33800, 33900, 34000, 34100, 34200,\n",
       "       34300, 34400, 34500, 34600, 34700, 34800, 34900, 35000, 35100,\n",
       "       35200, 35300, 35400, 35500, 35600, 35700, 35800, 35900, 36000,\n",
       "       36100, 36200, 36300, 36400, 36500, 36600, 36700, 36800, 36900,\n",
       "       37000, 37100, 37200, 37300, 37400, 37500, 37600, 37700, 37800,\n",
       "       37900, 38000, 38100, 38200, 38300, 38400, 38500, 38600, 38700,\n",
       "       38800, 38900, 39000, 39100, 39200, 39300, 39400, 39500, 39600,\n",
       "       39700, 39800, 39900, 40000, 40100, 40200, 40300, 40400, 40500,\n",
       "       40600, 40700, 40800, 40900, 41000, 41100, 41200, 41300, 41400,\n",
       "       41500, 41600, 41700, 41800, 41900, 42000, 42100, 42200, 42300,\n",
       "       42400, 42500, 42600, 42700, 42800, 42900, 43000, 43100, 43200,\n",
       "       43300, 43400, 43500, 43600, 43700, 43800, 43900, 44000, 44100,\n",
       "       44200, 44300, 44400, 44500, 44600, 44700, 44800, 44900, 45000,\n",
       "       45100, 45200, 45300, 45400, 45500, 45600, 45700, 45800, 45900,\n",
       "       46000, 46100, 46200, 46300, 46400, 46500, 46600, 46700, 46800,\n",
       "       46900, 47000, 47100, 47200, 47300, 47400, 47500, 47600, 47700,\n",
       "       47800, 47900, 48000, 48100, 48200, 48300, 48400, 48500, 48600,\n",
       "       48700, 48800, 48900, 49000, 49100, 49200, 49300, 49400, 49500,\n",
       "       49600, 49700, 49800, 49900, 50000])"
      ]
     },
     "execution_count": 32,
     "metadata": {},
     "output_type": "execute_result"
    }
   ],
   "source": [
    "array_i_x = [(i+1)*100 for i in range (500)]\n",
    "array_i_x = np.array(array_i_x)\n",
    "array_i_x.shape = (500)\n",
    "array_i_x"
   ]
  },
  {
   "cell_type": "code",
   "execution_count": 33,
   "metadata": {},
   "outputs": [
    {
     "data": {
      "image/png": "[encoded data removed]",
      "text/plain": [
       "<Figure size 432x288 with 1 Axes>"
      ]
     },
     "metadata": {},
     "output_type": "display_data"
    }
   ],
   "source": [
    "plt.plot(array_i_x, arrayL)\n",
    "plt.grid()\n",
    "plt.show()"
   ]
  },
  {
   "cell_type": "markdown",
   "metadata": {},
   "source": [
    "**P.1-3**"
   ]
  },
  {
   "cell_type": "code",
   "execution_count": 34,
   "metadata": {
    "scrolled": false
   },
   "outputs": [
    {
     "name": "stdout",
     "output_type": "stream",
     "text": [
      "(268, 9)\n"
     ]
    },
    {
     "data": {
      "text/html": [
       "<div>\n",
       "<style scoped>\n",
       "    .dataframe tbody tr th:only-of-type {\n",
       "        vertical-align: middle;\n",
       "    }\n",
       "\n",
       "    .dataframe tbody tr th {\n",
       "        vertical-align: top;\n",
       "    }\n",
       "\n",
       "    .dataframe thead th {\n",
       "        text-align: right;\n",
       "    }\n",
       "</style>\n",
       "<table border=\"1\" class=\"dataframe\">\n",
       "  <thead>\n",
       "    <tr style=\"text-align: right;\">\n",
       "      <th></th>\n",
       "      <th>label</th>\n",
       "      <th>num_preg</th>\n",
       "      <th>PGC</th>\n",
       "      <th>DBP</th>\n",
       "      <th>tricept</th>\n",
       "      <th>insulin</th>\n",
       "      <th>BMI</th>\n",
       "      <th>ped_func</th>\n",
       "      <th>age</th>\n",
       "    </tr>\n",
       "  </thead>\n",
       "  <tbody>\n",
       "    <tr>\n",
       "      <th>0</th>\n",
       "      <td>0</td>\n",
       "      <td>0.000000</td>\n",
       "      <td>0.507538</td>\n",
       "      <td>0.532787</td>\n",
       "      <td>0.444444</td>\n",
       "      <td>0.000000</td>\n",
       "      <td>0.366617</td>\n",
       "      <td>0.067891</td>\n",
       "      <td>0.016667</td>\n",
       "    </tr>\n",
       "    <tr>\n",
       "      <th>1</th>\n",
       "      <td>0</td>\n",
       "      <td>0.058824</td>\n",
       "      <td>0.356784</td>\n",
       "      <td>0.508197</td>\n",
       "      <td>0.000000</td>\n",
       "      <td>0.000000</td>\n",
       "      <td>0.324888</td>\n",
       "      <td>0.144321</td>\n",
       "      <td>0.083333</td>\n",
       "    </tr>\n",
       "    <tr>\n",
       "      <th>2</th>\n",
       "      <td>1</td>\n",
       "      <td>0.352941</td>\n",
       "      <td>0.974874</td>\n",
       "      <td>0.639344</td>\n",
       "      <td>0.000000</td>\n",
       "      <td>0.000000</td>\n",
       "      <td>0.350224</td>\n",
       "      <td>0.021776</td>\n",
       "      <td>0.633333</td>\n",
       "    </tr>\n",
       "    <tr>\n",
       "      <th>3</th>\n",
       "      <td>0</td>\n",
       "      <td>0.470588</td>\n",
       "      <td>0.633166</td>\n",
       "      <td>0.721311</td>\n",
       "      <td>0.571429</td>\n",
       "      <td>0.180000</td>\n",
       "      <td>0.573770</td>\n",
       "      <td>0.115713</td>\n",
       "      <td>0.466667</td>\n",
       "    </tr>\n",
       "    <tr>\n",
       "      <th>4</th>\n",
       "      <td>0</td>\n",
       "      <td>0.588235</td>\n",
       "      <td>0.648241</td>\n",
       "      <td>0.622951</td>\n",
       "      <td>0.444444</td>\n",
       "      <td>0.203333</td>\n",
       "      <td>0.535022</td>\n",
       "      <td>0.086251</td>\n",
       "      <td>0.300000</td>\n",
       "    </tr>\n",
       "  </tbody>\n",
       "</table>\n",
       "</div>"
      ],
      "text/plain": [
       "   label  num_preg       PGC       DBP   tricept   insulin       BMI  \\\n",
       "0      0  0.000000  0.507538  0.532787  0.444444  0.000000  0.366617   \n",
       "1      0  0.058824  0.356784  0.508197  0.000000  0.000000  0.324888   \n",
       "2      1  0.352941  0.974874  0.639344  0.000000  0.000000  0.350224   \n",
       "3      0  0.470588  0.633166  0.721311  0.571429  0.180000  0.573770   \n",
       "4      0  0.588235  0.648241  0.622951  0.444444  0.203333  0.535022   \n",
       "\n",
       "   ped_func       age  \n",
       "0  0.067891  0.016667  \n",
       "1  0.144321  0.083333  \n",
       "2  0.021776  0.633333  \n",
       "3  0.115713  0.466667  \n",
       "4  0.086251  0.300000  "
      ]
     },
     "execution_count": 34,
     "metadata": {},
     "output_type": "execute_result"
    }
   ],
   "source": [
    "data_test = pd.read_csv('logistic_regression_testing_data.csv')\n",
    "print(data_test.shape)\n",
    "data_test.head()\n"
   ]
  },
  {
   "cell_type": "code",
   "execution_count": 35,
   "metadata": {},
   "outputs": [],
   "source": [
    "Y2 = data_test['label'].values\n",
    "Y2.shape = (268,1)\n",
    "X2_total = data_test.iloc[:,1:data_test.shape[1]]  \n",
    "x2 = X2_total.values"
   ]
  },
  {
   "cell_type": "code",
   "execution_count": 36,
   "metadata": {},
   "outputs": [
    {
     "data": {
      "text/plain": [
       "(268, 8)"
      ]
     },
     "execution_count": 36,
     "metadata": {},
     "output_type": "execute_result"
    }
   ],
   "source": [
    "x2.shape"
   ]
  },
  {
   "cell_type": "markdown",
   "metadata": {},
   "source": [
    "\n",
    "\n",
    "\n",
    "def SGD_SSE(num_data,max_num_iterations):\n",
    "    ii = int(max_num_iterations/100)\n",
    "    #print(ii)\n",
    "    array_l = np.zeros(ii)\n",
    "    array_l.shape = (1,ii)\n",
    "    for a in range (ii):\n",
    "        w = np.zeros(X2_total.shape[1])\n",
    "        w.shape = (8,1)\n",
    "        w0 = SGD2(w,num_data,100*(a+1))\n",
    "        yy = np.dot(x2,w0)\n",
    "        yy.shape = (268,1)\n",
    "        array_l[0,a] = np.sum((Y2-yy)**2)/268\n",
    "    return array_l\n"
   ]
  },
  {
   "cell_type": "code",
   "execution_count": 54,
   "metadata": {},
   "outputs": [],
   "source": [
    "\n",
    "def SGD_SSE(max_num_iterations):\n",
    "    ii = int(max_num_iterations/100)\n",
    "    #print(ii)\n",
    "    array_l = np.zeros(ii)\n",
    "    array_l.shape = (1,ii)\n",
    "    w = np.zeros(X_total.shape[1])\n",
    "    w.shape = (8,1)\n",
    "    w_t = np.zeros(X_total.shape[1])\n",
    "    w_t.shape = (8,1)\n",
    "    y_label = 0\n",
    "    L_sum = 0\n",
    "    for m in range(max_num_iterations):\n",
    "        #    i = randint(1,num_data)/\n",
    "        if m % 500 == 0:\n",
    "            n = 0\n",
    "        else:\n",
    "            n = n+1\n",
    "        #print(np.dot(x[n:n+1,:],w))\n",
    "        p = sigmoid(np.dot(x[n:n+1,:],w))\n",
    "\n",
    "        q = (Y[n,0] - p)\n",
    "    \n",
    "        for k in range (8):\n",
    "            w[k,0] = w[k,0] + 0.8*x[n,k]*q \n",
    "\n",
    "        w_t = w_t + w  \n",
    "        \n",
    "        if (m+1)%100 == 0:\n",
    "            w0 = w_t/(m+1)\n",
    "            yy = np.dot(x2,w0)\n",
    "            yyy = sigmoid_v(yy)\n",
    "            yyy.shape = (268,1)\n",
    "            array_l[0,(m+1)//100-1] = np.sum((Y2-yyy)**2)/268\n",
    "        \n",
    "\n",
    "\n",
    "    return array_l\n",
    "\n",
    "\n",
    "\n",
    "      \n",
    "\n",
    "\n",
    "\n"
   ]
  },
  {
   "cell_type": "code",
   "execution_count": 55,
   "metadata": {
    "scrolled": true
   },
   "outputs": [
    {
     "data": {
      "text/plain": [
       "array([0.22564609, 0.21601803, 0.21287336, 0.21183496, 0.21167036,\n",
       "       0.21103643, 0.20927114, 0.20927889, 0.20930911, 0.20963193,\n",
       "       0.20955513, 0.20865479, 0.20878744, 0.20886765, 0.2091534 ,\n",
       "       0.20916149, 0.20856052, 0.2086875 , 0.20876061, 0.20899562,\n",
       "       0.20902152, 0.20856949, 0.20867954, 0.20874155, 0.20893745,\n",
       "       0.20896637, 0.20860335, 0.20869814, 0.20875066, 0.20891734,\n",
       "       0.20894524, 0.20864141, 0.20872382, 0.20876878, 0.20891321,\n",
       "       0.208939  , 0.20867742, 0.2087499 , 0.20878889, 0.20891598,\n",
       "       0.20893952, 0.20870967, 0.20877413, 0.20880836, 0.20892164,\n",
       "       0.20894307, 0.20873796, 0.20879588, 0.20882627, 0.20892834,\n",
       "       0.20894791, 0.20876264, 0.20881516, 0.20884241, 0.20893523,\n",
       "       0.20895316, 0.20878419, 0.20883218, 0.20885683, 0.2089419 ,\n",
       "       0.20895841, 0.20880308, 0.20884723, 0.20886971, 0.20894819,\n",
       "       0.20896347, 0.20881972, 0.20886058, 0.20888122, 0.20895405,\n",
       "       0.20896825, 0.20883446, 0.20887248, 0.20889154, 0.20895946,\n",
       "       0.20897272, 0.20884759, 0.20888313, 0.20890083, 0.20896445,\n",
       "       0.20897687, 0.20885935, 0.2088927 , 0.20890921, 0.20896905,\n",
       "       0.20898073, 0.20886994, 0.20890135, 0.20891682, 0.20897329,\n",
       "       0.20898431, 0.20887951, 0.2089092 , 0.20892374, 0.20897721,\n",
       "       0.20898763, 0.20888821, 0.20891635, 0.20893007, 0.20898083])"
      ]
     },
     "execution_count": 55,
     "metadata": {},
     "output_type": "execute_result"
    }
   ],
   "source": [
    "array_SSE = SGD_SSE(10000)\n",
    "array_SSE.shape =(100)\n",
    "array_SSE"
   ]
  },
  {
   "cell_type": "code",
   "execution_count": 56,
   "metadata": {
    "scrolled": true
   },
   "outputs": [
    {
     "data": {
      "text/plain": [
       "array([  100,   200,   300,   400,   500,   600,   700,   800,   900,\n",
       "        1000,  1100,  1200,  1300,  1400,  1500,  1600,  1700,  1800,\n",
       "        1900,  2000,  2100,  2200,  2300,  2400,  2500,  2600,  2700,\n",
       "        2800,  2900,  3000,  3100,  3200,  3300,  3400,  3500,  3600,\n",
       "        3700,  3800,  3900,  4000,  4100,  4200,  4300,  4400,  4500,\n",
       "        4600,  4700,  4800,  4900,  5000,  5100,  5200,  5300,  5400,\n",
       "        5500,  5600,  5700,  5800,  5900,  6000,  6100,  6200,  6300,\n",
       "        6400,  6500,  6600,  6700,  6800,  6900,  7000,  7100,  7200,\n",
       "        7300,  7400,  7500,  7600,  7700,  7800,  7900,  8000,  8100,\n",
       "        8200,  8300,  8400,  8500,  8600,  8700,  8800,  8900,  9000,\n",
       "        9100,  9200,  9300,  9400,  9500,  9600,  9700,  9800,  9900,\n",
       "       10000])"
      ]
     },
     "execution_count": 56,
     "metadata": {},
     "output_type": "execute_result"
    }
   ],
   "source": [
    "\n",
    "array_SSE_x = [(i+1)*100 for i in range (100)]\n",
    "array_SSE_x = np.array(array_SSE_x)\n",
    "array_SSE_x.shape = (100)\n",
    "array_SSE_x"
   ]
  },
  {
   "cell_type": "code",
   "execution_count": 57,
   "metadata": {},
   "outputs": [
    {
     "data": {
      "image/png": "[encoded data removed]",
      "text/plain": [
       "<Figure size 432x288 with 1 Axes>"
      ]
     },
     "metadata": {},
     "output_type": "display_data"
    }
   ],
   "source": [
    "plt.plot(array_SSE_x, array_SSE)\n",
    "plt.grid()\n",
    "plt.show()"
   ]
  },
  {
   "cell_type": "markdown",
   "metadata": {},
   "source": [
    "### II. Model evaluation and feature interpretations \n",
    "(*10 points*) P2.1 Using the model after 100,000 iterations, measure test accuracy. Accuracy is the fraction of predictions our model got right. That is, it is computed by Number of correct predictions / Total number of predictions.\n",
    "\n",
    "(*10 points*) P2.2 SGD oscillates around a solution (noisy convergence). In order to minimize risk of picking bad weights, we typically use an average model. Measure test accuracy again, using an average model over the weights for the last 1000 iterations\n",
    "\n",
    "(*10 points*) P2.3 Report the weights of following features, $\\texttt{BMI}$, $\\texttt{insulin}$, and $\\texttt{PGC}$, and provide an interpretation of the effect of these features for diabetes classification based on the inferred weights."
   ]
  },
  {
   "cell_type": "markdown",
   "metadata": {},
   "source": [
    "**P.2-1**"
   ]
  },
  {
   "cell_type": "code",
   "execution_count": 132,
   "metadata": {},
   "outputs": [],
   "source": [
    "\n",
    "def SGD2(w,num_iterations):\n",
    "    y_label = 0\n",
    "    L_sum = 0\n",
    "    for m in range(num_iterations):\n",
    "        #    i = randint(1,num_data)/\n",
    "        if m % 500 == 0:\n",
    "            n = 0\n",
    "        else:\n",
    "            n = n+1\n",
    "        \n",
    "        #print(np.dot(x[n:n+1,:],w))\n",
    "        p = sigmoid(np.dot(x[n:n+1,:],w))\n",
    "        q = (Y[n,0] - p)\n",
    "    \n",
    "        for k in range (8):\n",
    "            w[k,0] = w[k,0] + 0.8*x[n,k]*q \n",
    "       \n",
    "\n",
    "\n",
    "    return w\n",
    "\n",
    "def SGD_correct(max_num_iterations):\n",
    "    \n",
    "    w = np.zeros(X2_total.shape[1])\n",
    "    w.shape = (8,1)\n",
    "    w0 = SGD2(w,max_num_iterations)\n",
    "    yy = np.dot(x2,w0)\n",
    "    yy.shape = (268,1)\n",
    "    correct = 0\n",
    "    p = sigmoid_v(yy)\n",
    "    for i in range(268):\n",
    "        if p[i,0]>0.5:\n",
    "            p[i,0] = 1\n",
    "        else:\n",
    "            p[i,0] = 0\n",
    "    for j in range (268):\n",
    "        if Y2[j,0] == p[j,0]:\n",
    "            correct = correct+1\n",
    "            \n",
    "    return correct/268"
   ]
  },
  {
   "cell_type": "code",
   "execution_count": 133,
   "metadata": {},
   "outputs": [],
   "source": [
    "\n",
    "def SGD21(w,num_iterations):\n",
    "    y_label = 0\n",
    "    L_sum = 0\n",
    "    w_t = np.zeros(X_total.shape[1])\n",
    "    w_t.shape = (8,1)\n",
    "    for m in range(num_iterations):\n",
    "        #    i = randint(1,num_data)/\n",
    "        if m % 500 == 0:\n",
    "            n = 0\n",
    "        else:\n",
    "            n = n+1\n",
    "        \n",
    "        #print(np.dot(x[n:n+1,:],w))\n",
    "        p = sigmoid(np.dot(x[n:n+1,:],w))\n",
    "        q = (Y[n,0] - p)\n",
    "    \n",
    "        for k in range (8):\n",
    "            w[k,0] = w[k,0] + 0.8*x[n,k]*q \n",
    "\n",
    "\n",
    "        w_t = w_t + w        \n",
    "\n",
    "\n",
    "    return w_t/num_iterations\n",
    "\n",
    "def SGD_avg_correct(max_num_iterations):\n",
    "    \n",
    "    w = np.zeros(X2_total.shape[1])\n",
    "    w.shape = (8,1)\n",
    "    w0 = SGD21(w,max_num_iterations)\n",
    "    yy = np.dot(x2,w0)\n",
    "    yy.shape = (268,1)\n",
    "    correct = 0\n",
    "    p = sigmoid_v(yy)\n",
    "    for i in range(268):\n",
    "        if p[i,0]>0.5:\n",
    "            p[i,0] = 1\n",
    "        else:\n",
    "            p[i,0] = 0\n",
    "    for j in range (268):\n",
    "        if Y2[j,0] == p[j,0]:\n",
    "            correct = correct+1\n",
    "            \n",
    "    return correct/268"
   ]
  },
  {
   "cell_type": "code",
   "execution_count": 134,
   "metadata": {},
   "outputs": [],
   "source": [
    "correct_100000 = SGD_correct(100000)\n",
    "correct_avg_100000 = SGD_avg_correct(100000)"
   ]
  },
  {
   "cell_type": "code",
   "execution_count": 135,
   "metadata": {},
   "outputs": [
    {
     "name": "stdout",
     "output_type": "stream",
     "text": [
      "0.5634328358208955\n",
      "0.667910447761194\n"
     ]
    }
   ],
   "source": [
    "print(correct_100000)\n",
    "print(correct_avg_100000)"
   ]
  },
  {
   "cell_type": "markdown",
   "metadata": {},
   "source": [
    "100000 번의 실험을 진행했을때 100000 번 진행했을때 accuracy 는 0.5634328.... 이 나왔고 100000 번 진행했을때 100 단위로 (ex : 100,200,300.......100000) 나온 w 값을 더한 후 평균을 구한 것은 0.6679104.... 이 나왔다. 확실히 평균을 구했을 때 더 높은 정확도를 보이는 것을 알 수 있다."
   ]
  },
  {
   "cell_type": "markdown",
   "metadata": {},
   "source": [
    "**P.2-2**"
   ]
  },
  {
   "cell_type": "code",
   "execution_count": 130,
   "metadata": {},
   "outputs": [],
   "source": [
    "def SGD2_2(w,num_iterations):\n",
    "    y_label = 0\n",
    "    L_sum = 0\n",
    "    w_t = np.zeros(X_total.shape[1])\n",
    "    w_t.shape = (8,1)\n",
    "    v = 0\n",
    "    for m in range(num_iterations):\n",
    "        v = v+1\n",
    "        #    i = randint(1,num_data)/\n",
    "        if m % 500 == 0:\n",
    "            n = 0\n",
    "        else:\n",
    "            n = n+1\n",
    "        \n",
    "        #print(np.dot(x[n:n+1,:],w))\n",
    "        p = sigmoid(np.dot(x[n:n+1,:],w))\n",
    "        q = (Y[n,0] - p)\n",
    "    \n",
    "        for k in range (8):\n",
    "            w[k,0] = w[k,0] + 0.8*x[n,k]*q \n",
    "            \n",
    "\n",
    "        \n",
    "        if v>99000:\n",
    "            w_t = w_t + w\n",
    "\n",
    "\n",
    "    return w_t/(v-99000)\n",
    "\n",
    "def SGD_correct2(max_num_iterations):\n",
    "    \n",
    "    w = np.zeros(X2_total.shape[1])\n",
    "    w.shape = (8,1)\n",
    "    w0 = SGD2_2(w,max_num_iterations)\n",
    "    yy = np.dot(x2,w0)\n",
    "    yy.shape = (268,1)\n",
    "    correct = 0\n",
    "    p = sigmoid_v(yy)\n",
    "    for i in range(268):\n",
    "        if p[i,0]>0.5:\n",
    "            p[i,0] = 1\n",
    "        else:\n",
    "            p[i,0] = 0\n",
    "    for j in range (268):\n",
    "        if Y2[j,0] == p[j,0]:\n",
    "            correct = correct+1\n",
    "            \n",
    "    return correct/268"
   ]
  },
  {
   "cell_type": "code",
   "execution_count": 131,
   "metadata": {
    "scrolled": true
   },
   "outputs": [
    {
     "name": "stdout",
     "output_type": "stream",
     "text": [
      "0.667910447761194\n"
     ]
    }
   ],
   "source": [
    "avg1000_correct = SGD_correct2(100000)\n",
    "print(avg1000_correct)"
   ]
  },
  {
   "cell_type": "markdown",
   "metadata": {},
   "source": [
    "100000 번의 실험을 진했을때 위에 구한 것과 조금 다르게 마지막 1000개의 실험(99001,99002,99003,.....100000) 에서 나온 모든 w 값을 더한 후 평균을 구했다. 이 때 결과는 위에서 구한 평균과 똑같이 나왔고 그러므로 위와 비슷하게 다른 경우(ex : 평균을 사용하지 않았을때) 와 비교해서 높은 정확도를 보인다는 것을 알 수 있다."
   ]
  },
  {
   "cell_type": "markdown",
   "metadata": {},
   "source": [
    "**P.2-3**"
   ]
  },
  {
   "cell_type": "code",
   "execution_count": 136,
   "metadata": {},
   "outputs": [],
   "source": [
    "w2_3 = np.zeros(X_total.shape[1])\n",
    "w2_3.shape = (8,1)\n",
    "ww = SGD2_2(w2_3,100000)"
   ]
  },
  {
   "cell_type": "code",
   "execution_count": 137,
   "metadata": {},
   "outputs": [],
   "source": [
    "BMI = ww[5,0]\n",
    "insulin = ww[4,0]\n",
    "PGC = ww[1,0]"
   ]
  },
  {
   "cell_type": "code",
   "execution_count": 138,
   "metadata": {},
   "outputs": [
    {
     "name": "stdout",
     "output_type": "stream",
     "text": [
      "BMI = -1.3059873054861206 ,insulin = 1.121688284905035 , PGC = 2.160014028572755\n"
     ]
    }
   ],
   "source": [
    "print('BMI =',BMI,',insulin =',insulin,', PGC =',PGC)"
   ]
  },
  {
   "cell_type": "markdown",
   "metadata": {},
   "source": [
    "BMI, insulin, PGC 에 해당하는 weight 를 보면 위와 같은 결과가 나온다. 이것을 보면 우선 BMI 가 높으면 비만 예방이 될 확률이 높고, insulin 과 PGC 가 높으면 비만에 걸릴 확률이 높아질 것을 알 수 있다. 또한 PGC 값이 insulin 의 2배 가까이 되는 것으로 보아 PGC 가 비만이 될 확률에 더 큰 영향을 줄 것임을 알 수 있다."
   ]
  }
 ],
 "metadata": {
  "kernelspec": {
   "display_name": "Python 3",
   "language": "python",
   "name": "python3"
  },
  "language_info": {
   "codemirror_mode": {
    "name": "ipython",
    "version": 3
   },
   "file_extension": ".py",
   "mimetype": "text/x-python",
   "name": "python",
   "nbconvert_exporter": "python",
   "pygments_lexer": "ipython3",
   "version": "3.6.5"
  }
 },
 "nbformat": 4,
 "nbformat_minor": 2
}
