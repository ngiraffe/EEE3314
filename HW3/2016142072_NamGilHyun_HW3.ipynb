{
 "cells": [
  {
   "cell_type": "markdown",
   "metadata": {},
   "source": [
    "> ### EEE3314-02: Introduction to Artificial Intelligence\n",
    "\n",
    "# Assignment \\# III: Logistic Regression"
   ]
  },
  {
   "cell_type": "markdown",
   "metadata": {},
   "source": [
    "<div style=\"text-align: right\"> **Due date: Nov. 2, 2018.** </div> \n",
    "<div style=\"text-align: right\"> **Please upload your file @ yscec by 9 PM.** </div> \n",
    "<h4><div style=\"text-align: right\"> **For one day late (70% credit), please send your file to your TAs in the form of [ID_Name_HW3.ipynb].**</div> </h4>\n",
    "<div style=\"text-align: right\"> Beomjun Kim(김범준): <a href=\"mailto:beomjun.kim@yonsei.ac.kr\">beomjun.kim@yonsei.ac.kr</a> </div>\n",
    "<div style=\"text-align: right\"> Chanho Um(엄찬호): <a href=\"mailto:chanho0103@yonsei.ac.kr\">chanho0103@yonsei.ac.kr</a> </div>"
   ]
  },
  {
   "cell_type": "markdown",
   "metadata": {},
   "source": [
    "### *Assignement Instructions:*\n",
    "- Write a program implementing a particular algorithm to solve a given problem.   \n",
    "- <h4><span style=\"color:red\">**Report and discuss your results. Analyze the algorithm, theoretically and empirically. **</span> </h4>\n",
    "\n",
    "### *Collaboration policy:*\n",
    "- You may discuss the questions.   \n",
    "- Each student writes their own answers.   \n",
    "- **Write on your homework anyone with whom you collaborate.**   \n",
    "- Each student must write their own code for the programming part (**if not you will get a F grade**)."
   ]
  },
  {
   "cell_type": "markdown",
   "metadata": {},
   "source": [
    "<h2><span style=\"color:blue\">[2016142072] [NamGilHyun]</span> </h2>"
   ]
  },
  {
   "cell_type": "code",
   "execution_count": null,
   "metadata": {},
   "outputs": [],
   "source": [
    "import datetime\n",
    "print(\"This code is written at \" + str(datetime.datetime.now()))"
   ]
  },
  {
   "cell_type": "markdown",
   "metadata": {},
   "source": [
    "## Problem description"
   ]
  },
  {
   "cell_type": "markdown",
   "metadata": {},
   "source": [
    "We will implement Stochastic Gradient Descent (SGD) to optimize a logistic regression model to predict whether a given patient have diabetes or not. In clinical informatics, machine learning approahces have been widely adopted to predict clinically adverse events based on patient data. For this problem, we will use the Pima Indians Diabetes Data Set. The data on each patient include:\n",
    "\n",
    "- $\\texttt{label}$: The output class variable (0 - normal or 1 - diabetes)  \n",
    "- $\\texttt{num_preg}$: Number of times pregnant \n",
    "- $\\texttt{PGC}$: Plasma glucose concentration at 2 hours in an oral glucose tolerance test (PGC)\n",
    "- $\\texttt{DBP}$: Diastolic blood pressure (DBP)\n",
    "- $\\texttt{tricept}$: Triceps skin fold thickness (tricept, unit: mm)  \n",
    "- $\\texttt{insulin}$: 2-Hour serum insulin (insulin, unit: μU/ml)\n",
    "- $\\texttt{BMI}$: Body mass index (BMI)\n",
    "- $\\texttt{ped_func}$: Diabetes pedigree function\n",
    "- $\\texttt{age}$: Age (age, years)\n",
    "\n",
    "Among all 768 patients, we will separate 500 patients as training data ($\\texttt{logistic_regression_training_data.csv}$) and 268 patients as test data ($\\texttt{logistic_regression_test_data.csv}$)."
   ]
  },
  {
   "cell_type": "markdown",
   "metadata": {},
   "source": [
    "### I. Logistic regression method using SGD\n",
    "(*50 points*) P1.1 Implement a logistic regression method using SGD. You may assume that the data is randomly ordered. \n",
    "\n",
    "(*10 points*) P1.2 Plot $\\bar L$ every 100 iterations, e.g., [100, 200, 300,...], defined as\n",
    "\n",
    "$\\begin{equation} \\bar L(T) = \\frac{1}{T}\\sum_{t=1}^{T} (\\hat y^t - y^t)^2 \\end{equation}$,   \n",
    "where $T$ is the number of iterations and $\\hat y^t$ (either 0 or 1) is the predicted label for sample $\\bf{x}^t$ using the weights $\\bf{w}^{t-1}$. \n",
    "\n",
    "> Initialize the weight vector $w$ and the bias $w_0$ to 0.    \n",
    "> Learning rate = 0.8.    \n",
    "> Number of iterations = 100,000.\n",
    "\n",
    "(*10 points*) P1.3 Use the model weights to predict whether each patient in the test set has diabetes, for every 100 steps. Plot sum of squared errors of your prediction."
   ]
  },
  {
   "cell_type": "markdown",
   "metadata": {},
   "source": [
    "### II. Model evaluation and feature interpretations \n",
    "(*10 points*) P2.1 Using the model after 100,000 iterations, measure test accuracy. Accuracy is the fraction of predictions our model got right. That is, it is computed by Number of correct predictions / Total number of predictions.\n",
    "\n",
    "(*10 points*) P2.2 SGD oscillates around a solution (noisy convergence). In order to minimize risk of picking bad weights, we typically use an average model. Measure test accuracy again, using an average model over the weights for the last 1000 iterations\n",
    "\n",
    "(*10 points*) P2.3 Report the weights of following features, $\\texttt{BMI}$, $\\texttt{insulin}$, and $\\texttt{PGC}$, and provide an interpretation of the effect of these features for diabetes classification based on the inferred weights."
   ]
  },
  {
   "cell_type": "markdown",
   "metadata": {},
   "source": [
    "**P1.1**"
   ]
  },
  {
   "cell_type": "code",
   "execution_count": 168,
   "metadata": {},
   "outputs": [
    {
     "data": {
      "text/html": [
       "<div>\n",
       "<style scoped>\n",
       "    .dataframe tbody tr th:only-of-type {\n",
       "        vertical-align: middle;\n",
       "    }\n",
       "\n",
       "    .dataframe tbody tr th {\n",
       "        vertical-align: top;\n",
       "    }\n",
       "\n",
       "    .dataframe thead th {\n",
       "        text-align: right;\n",
       "    }\n",
       "</style>\n",
       "<table border=\"1\" class=\"dataframe\">\n",
       "  <thead>\n",
       "    <tr style=\"text-align: right;\">\n",
       "      <th></th>\n",
       "      <th>label</th>\n",
       "      <th>num_preg</th>\n",
       "      <th>PGC</th>\n",
       "      <th>DBP</th>\n",
       "      <th>tricept</th>\n",
       "      <th>insulin</th>\n",
       "      <th>BMI</th>\n",
       "      <th>ped_func</th>\n",
       "      <th>age</th>\n",
       "    </tr>\n",
       "  </thead>\n",
       "  <tbody>\n",
       "    <tr>\n",
       "      <th>0</th>\n",
       "      <td>1</td>\n",
       "      <td>0.470588</td>\n",
       "      <td>0.758794</td>\n",
       "      <td>0.639344</td>\n",
       "      <td>0.507937</td>\n",
       "      <td>0.35</td>\n",
       "      <td>0.639344</td>\n",
       "      <td>0.187020</td>\n",
       "      <td>0.250000</td>\n",
       "    </tr>\n",
       "    <tr>\n",
       "      <th>1</th>\n",
       "      <td>1</td>\n",
       "      <td>0.235294</td>\n",
       "      <td>0.663317</td>\n",
       "      <td>0.000000</td>\n",
       "      <td>0.000000</td>\n",
       "      <td>0.00</td>\n",
       "      <td>0.490313</td>\n",
       "      <td>0.095645</td>\n",
       "      <td>0.033333</td>\n",
       "    </tr>\n",
       "    <tr>\n",
       "      <th>2</th>\n",
       "      <td>0</td>\n",
       "      <td>0.058824</td>\n",
       "      <td>0.467337</td>\n",
       "      <td>0.459016</td>\n",
       "      <td>0.174603</td>\n",
       "      <td>0.00</td>\n",
       "      <td>0.335320</td>\n",
       "      <td>0.144748</td>\n",
       "      <td>0.016667</td>\n",
       "    </tr>\n",
       "    <tr>\n",
       "      <th>3</th>\n",
       "      <td>0</td>\n",
       "      <td>0.058824</td>\n",
       "      <td>0.547739</td>\n",
       "      <td>0.311475</td>\n",
       "      <td>0.285714</td>\n",
       "      <td>0.20</td>\n",
       "      <td>0.344262</td>\n",
       "      <td>0.140478</td>\n",
       "      <td>0.083333</td>\n",
       "    </tr>\n",
       "    <tr>\n",
       "      <th>4</th>\n",
       "      <td>1</td>\n",
       "      <td>0.176471</td>\n",
       "      <td>0.869347</td>\n",
       "      <td>0.688525</td>\n",
       "      <td>0.523810</td>\n",
       "      <td>0.79</td>\n",
       "      <td>0.532042</td>\n",
       "      <td>0.076857</td>\n",
       "      <td>0.016667</td>\n",
       "    </tr>\n",
       "  </tbody>\n",
       "</table>\n",
       "</div>"
      ],
      "text/plain": [
       "   label  num_preg       PGC       DBP   tricept  insulin       BMI  ped_func  \\\n",
       "0      1  0.470588  0.758794  0.639344  0.507937     0.35  0.639344  0.187020   \n",
       "1      1  0.235294  0.663317  0.000000  0.000000     0.00  0.490313  0.095645   \n",
       "2      0  0.058824  0.467337  0.459016  0.174603     0.00  0.335320  0.144748   \n",
       "3      0  0.058824  0.547739  0.311475  0.285714     0.20  0.344262  0.140478   \n",
       "4      1  0.176471  0.869347  0.688525  0.523810     0.79  0.532042  0.076857   \n",
       "\n",
       "        age  \n",
       "0  0.250000  \n",
       "1  0.033333  \n",
       "2  0.016667  \n",
       "3  0.083333  \n",
       "4  0.016667  "
      ]
     },
     "execution_count": 168,
     "metadata": {},
     "output_type": "execute_result"
    }
   ],
   "source": [
    "import pandas as pd\n",
    "import numpy as np\n",
    "import matplotlib.pyplot as plt\n",
    "import math\n",
    "# Data load\n",
    "data = pd.read_csv('logistic_regression_training_data.csv') \n",
    "test_data = pd.read_csv('logistic_regression_testing_data.csv')\n",
    "data.head()\n"
   ]
  },
  {
   "cell_type": "markdown",
   "metadata": {},
   "source": [
    "dataframe객체의 head함수를 이용해서 처음 5개의 데이터들을 살펴보았다. 그 결과 총 8개의 feature가 있고, feature value들은 0부터 1사이의 값으로 정규화되어있음을 확인할 수 있었다. 또한 위의 문제 설명에 나와있다시피 label 이 0이면 정상, label이 1이면 당뇨병을 가지고 있음을 나타냄을 확인할 수 있다. "
   ]
  },
  {
   "cell_type": "code",
   "execution_count": 169,
   "metadata": {},
   "outputs": [
    {
     "data": {
      "text/html": [
       "<div>\n",
       "<style scoped>\n",
       "    .dataframe tbody tr th:only-of-type {\n",
       "        vertical-align: middle;\n",
       "    }\n",
       "\n",
       "    .dataframe tbody tr th {\n",
       "        vertical-align: top;\n",
       "    }\n",
       "\n",
       "    .dataframe thead th {\n",
       "        text-align: right;\n",
       "    }\n",
       "</style>\n",
       "<table border=\"1\" class=\"dataframe\">\n",
       "  <thead>\n",
       "    <tr style=\"text-align: right;\">\n",
       "      <th></th>\n",
       "      <th>label</th>\n",
       "      <th>num_preg</th>\n",
       "      <th>PGC</th>\n",
       "      <th>DBP</th>\n",
       "      <th>tricept</th>\n",
       "      <th>insulin</th>\n",
       "      <th>BMI</th>\n",
       "      <th>ped_func</th>\n",
       "      <th>age</th>\n",
       "    </tr>\n",
       "  </thead>\n",
       "  <tbody>\n",
       "    <tr>\n",
       "      <th>count</th>\n",
       "      <td>500.00000</td>\n",
       "      <td>500.000000</td>\n",
       "      <td>500.000000</td>\n",
       "      <td>500.000000</td>\n",
       "      <td>500.000000</td>\n",
       "      <td>500.000000</td>\n",
       "      <td>500.000000</td>\n",
       "      <td>500.000000</td>\n",
       "      <td>500.000000</td>\n",
       "    </tr>\n",
       "    <tr>\n",
       "      <th>mean</th>\n",
       "      <td>0.34600</td>\n",
       "      <td>0.216471</td>\n",
       "      <td>0.610261</td>\n",
       "      <td>0.561934</td>\n",
       "      <td>0.311048</td>\n",
       "      <td>0.125230</td>\n",
       "      <td>0.475377</td>\n",
       "      <td>0.172000</td>\n",
       "      <td>0.192167</td>\n",
       "    </tr>\n",
       "    <tr>\n",
       "      <th>std</th>\n",
       "      <td>0.47617</td>\n",
       "      <td>0.192480</td>\n",
       "      <td>0.158489</td>\n",
       "      <td>0.166278</td>\n",
       "      <td>0.248020</td>\n",
       "      <td>0.170124</td>\n",
       "      <td>0.118355</td>\n",
       "      <td>0.144031</td>\n",
       "      <td>0.188961</td>\n",
       "    </tr>\n",
       "    <tr>\n",
       "      <th>min</th>\n",
       "      <td>0.00000</td>\n",
       "      <td>0.000000</td>\n",
       "      <td>0.000000</td>\n",
       "      <td>0.000000</td>\n",
       "      <td>0.000000</td>\n",
       "      <td>0.000000</td>\n",
       "      <td>0.000000</td>\n",
       "      <td>0.000000</td>\n",
       "      <td>0.000000</td>\n",
       "    </tr>\n",
       "    <tr>\n",
       "      <th>25%</th>\n",
       "      <td>0.00000</td>\n",
       "      <td>0.058824</td>\n",
       "      <td>0.497487</td>\n",
       "      <td>0.508197</td>\n",
       "      <td>0.000000</td>\n",
       "      <td>0.000000</td>\n",
       "      <td>0.400522</td>\n",
       "      <td>0.072054</td>\n",
       "      <td>0.050000</td>\n",
       "    </tr>\n",
       "    <tr>\n",
       "      <th>50%</th>\n",
       "      <td>0.00000</td>\n",
       "      <td>0.176471</td>\n",
       "      <td>0.587940</td>\n",
       "      <td>0.590164</td>\n",
       "      <td>0.349206</td>\n",
       "      <td>0.056667</td>\n",
       "      <td>0.476900</td>\n",
       "      <td>0.122758</td>\n",
       "      <td>0.116667</td>\n",
       "    </tr>\n",
       "    <tr>\n",
       "      <th>75%</th>\n",
       "      <td>1.00000</td>\n",
       "      <td>0.352941</td>\n",
       "      <td>0.708543</td>\n",
       "      <td>0.655738</td>\n",
       "      <td>0.507937</td>\n",
       "      <td>0.208750</td>\n",
       "      <td>0.548435</td>\n",
       "      <td>0.246904</td>\n",
       "      <td>0.287500</td>\n",
       "    </tr>\n",
       "    <tr>\n",
       "      <th>max</th>\n",
       "      <td>1.00000</td>\n",
       "      <td>1.000000</td>\n",
       "      <td>1.000000</td>\n",
       "      <td>1.000000</td>\n",
       "      <td>1.000000</td>\n",
       "      <td>1.000000</td>\n",
       "      <td>1.000000</td>\n",
       "      <td>1.000000</td>\n",
       "      <td>1.000000</td>\n",
       "    </tr>\n",
       "  </tbody>\n",
       "</table>\n",
       "</div>"
      ],
      "text/plain": [
       "           label    num_preg         PGC         DBP     tricept     insulin  \\\n",
       "count  500.00000  500.000000  500.000000  500.000000  500.000000  500.000000   \n",
       "mean     0.34600    0.216471    0.610261    0.561934    0.311048    0.125230   \n",
       "std      0.47617    0.192480    0.158489    0.166278    0.248020    0.170124   \n",
       "min      0.00000    0.000000    0.000000    0.000000    0.000000    0.000000   \n",
       "25%      0.00000    0.058824    0.497487    0.508197    0.000000    0.000000   \n",
       "50%      0.00000    0.176471    0.587940    0.590164    0.349206    0.056667   \n",
       "75%      1.00000    0.352941    0.708543    0.655738    0.507937    0.208750   \n",
       "max      1.00000    1.000000    1.000000    1.000000    1.000000    1.000000   \n",
       "\n",
       "              BMI    ped_func         age  \n",
       "count  500.000000  500.000000  500.000000  \n",
       "mean     0.475377    0.172000    0.192167  \n",
       "std      0.118355    0.144031    0.188961  \n",
       "min      0.000000    0.000000    0.000000  \n",
       "25%      0.400522    0.072054    0.050000  \n",
       "50%      0.476900    0.122758    0.116667  \n",
       "75%      0.548435    0.246904    0.287500  \n",
       "max      1.000000    1.000000    1.000000  "
      ]
     },
     "execution_count": 169,
     "metadata": {},
     "output_type": "execute_result"
    }
   ],
   "source": [
    "# Plot statistical Infomation.\n",
    "data.describe()"
   ]
  },
  {
   "cell_type": "markdown",
   "metadata": {},
   "source": [
    "dataframe객체의 describe 함수를 이용해서 training set의  데이터들에 대한 대략적인 통계 정보들을 확인하였다.\n",
    "문제에 나와있다 시피 training dataset의 data point 개수는 500개 였으며 각 feature들의 평균값 25%,50%,75% 값들을 통해 특정 데이터가 상대적으로 어느 위치에 있는지 확인할 수 있었다."
   ]
  },
  {
   "cell_type": "code",
   "execution_count": 174,
   "metadata": {},
   "outputs": [],
   "source": [
    "data_np = data.values  # Change dataframe object to numpy array\n",
    "test_data_np = test_data.values\n",
    "\n",
    "y = data_np[:,0] # Data preprocessing\n",
    "X = data_np[:,1:]\n",
    "y_t = test_data_np[:,0]\n",
    "X_t = test_data_np[:,1:]\n",
    "N = len(data['label'].values)\n",
    "N_t = len(test_data['label'].values)\n",
    "X2 = np.c_[np.ones(N), X] # Consider Intercept term \n",
    "X2_t = np.c_[np.ones(N_t), X_t]\n",
    "\n",
    "w_init = np.zeros(len(X[0,:]))\n",
    "\n",
    "\n",
    "def sigmoid(x): # Implementing sigmoid function\n",
    "\n",
    "        return 1/(1 + math.exp(-x))\n",
    "\n",
    "def sign(x): # Implementing Labeling function\n",
    "    if x>=0.5:\n",
    "        return 1\n",
    "    else:\n",
    "        return 0\n",
    "\n",
    "def error_calculate(X, y, w): # Implementing error calculation function\n",
    "    y_p = np.zeros(X.shape[0])\n",
    "    sum_error=0\n",
    "    for i in range(X.shape[0]):\n",
    "        y_p[i] = sign(sigmoid(np.dot(X[i,:],w)))\n",
    "        error = y_p[i] -  y[i]\n",
    "        sum_error += error**2 \n",
    "    \n",
    "    return sum_error /X.shape[0]"
   ]
  },
  {
   "cell_type": "markdown",
   "metadata": {},
   "source": [
    "데이터들을 처리하기 위해 넘파이 어레이 형태로 바꿔주었고, 종속변수와 독립변수 부분을 분리하였다. 또한 문제 1번과 2번을 해결하는 데에 필요한 함수들을 만들었다. sigmoid함수는 확률값을 계산하는 데에 사용하고, sign함수는 확률값이 0.5보다 크면 y를 1로 판정하고 그렇지 않으면 y를 0으로 판정하는 함수이다. 또한 error_calculate함수는 데이터셋과 w를 받아서 Average sum of squared에러를 계산해서 반환하는 함수이다."
   ]
  },
  {
   "cell_type": "code",
   "execution_count": 163,
   "metadata": {},
   "outputs": [],
   "source": [
    "def logis_sgd(X, y, X_t, y_t, w, etha, iterations):\n",
    "    \n",
    "    # Initialize value\n",
    "    whist=[]\n",
    "    error_history = []\n",
    "    rss =[]\n",
    "    p = np.zeros(len(w))\n",
    "    y_p = np.zeros(X.shape[0])\n",
    "    sum_error = 0\n",
    "    t=0\n",
    "    \n",
    "    while(t < iterations):\n",
    "        \n",
    "        for i in range(X.shape[0]):\n",
    "            \n",
    "            m= y[i]-sigmoid(np.dot(X[i,:],w))\n",
    "            for j in range(len(w)): # Updating w\n",
    "            \n",
    "                p[j] = X[i,j]*m\n",
    "                w[j] = w[j] + (etha*p[j])\n",
    "                \n",
    "            \n",
    "            whist.append(w.copy())  # Saving w values\n",
    "            y_p[i] = sign(sigmoid(np.dot(X[i,:],w))) # Calculating error\n",
    "            error = y_p[i] -  y[i]\n",
    "            sum_error += error**2\n",
    "            \n",
    "            if t!=0 and t%100==0:\n",
    "                error_history.append(sum_error/t)\n",
    "                rss.append(error_calculate(X_t,y_t,w)) # Saving test error \n",
    "            \n",
    "            \n",
    "            t = t+1\n",
    "            \n",
    "\n",
    "    return  error_history,whist,rss"
   ]
  },
  {
   "cell_type": "markdown",
   "metadata": {},
   "source": [
    "Stochastic gradient ascent for logistic regression을 위의 Logis_sgd 함수를 만들어서 구현하였다.\n",
    "기존 gradient ascent의 경우\n",
    "\\\\(\\frac { \\partial ll(w) }{ \\partial { w }_{ j } } =\\sum _{ i=1 }^{ N }{ \\frac { \\partial l{ l }_{ i }(w) }{ \\partial { w }_{ j } }  } \\quad \\\\) 이지만\n",
    "\n",
    "stochastic gradient ascent 의 경우\n",
    "\\\\(\\frac { \\partial ll(w) }{ \\partial { w }_{ j } } =\\frac { \\partial l{ l }_{ i }(w) }{ \\partial { w }_{ j } } \\\\) 이다.\n",
    "여기서 ll(w)는 log - likelihood function이다. \n",
    "iteration 마다 각각 다른 data point i를 사용하는 것이 특징이다. 여기서는 문제에서 데이터가 무작위로 정렬되있다고 하였으므로 순차적으로 해도 무관하기 때문에 그렇게 구현하였다. 또한 iteration 마다 w를 업데이트 하며 한 iteraion에서 데이터 포인트 하나를 가지고 w를 업데이트 한다. \n",
    "\n",
    "구체적으로는 j번째 feature value를 업데이트 할 때는 다음과 같은 과정을 거친다.\n",
    "\n",
    "\\\\({ w }_{ j }^{ (t+1) }={ w }_{ j }^{ (t) }+\\eta ({ h }_{ j }({ x }_{ i })(indic({ y }_{ i }=1)-P(y=1|{ x }_{ i },{ w }^{ (t) })))\\\\)\n",
    "\n",
    "여기서 t는 iteration 이며 indic()은 indicator function 이다. 에타는 learning rate값을 의미한다.  조건부 확률 값은 Sigmoid 함수에 Score value를 넣었을 때 나오는 함숫값으로 구한다.\n",
    "\n",
    "\n",
    "추가적으로 Logis_sgd에서는 문제 1.2와 1.3에서 iteration마다 error를 계산해야 해서 Logistic regression SGD를 구현함과 동시에 error를 계산해서 iteration 100번마다 error를 저장하게 하였고, 문제2.2에서 편하게 평균 test error를 계산하기 위해 test error도 iteration 100번마다 저장하였다. 또한 2번에서의 편의를 위해 iteration마다 갱신되는 w값들을 저장한 리스트인 whist를 반환하게 하였다."
   ]
  },
  {
   "cell_type": "code",
   "execution_count": 175,
   "metadata": {},
   "outputs": [],
   "source": [
    "errhist,whist,rss = logis_sgd(X,y,X_t,y_t,w_init,0.8,100000)"
   ]
  },
  {
   "cell_type": "markdown",
   "metadata": {},
   "source": [
    "**P1.2**"
   ]
  },
  {
   "cell_type": "code",
   "execution_count": 176,
   "metadata": {},
   "outputs": [
    {
     "data": {
      "image/png": "[encoded data removed]",
      "text/plain": [
       "<Figure size 432x288 with 1 Axes>"
      ]
     },
     "metadata": {},
     "output_type": "display_data"
    }
   ],
   "source": [
    "x1 = range(0,len(errhist))\n",
    "y1 = [errhist[v] for v in x1]\n",
    "\n",
    "# Plot the graph\n",
    "plt.plot(x1,y1,'c-',lw=2.5)\n",
    "\n",
    "plt.ylabel('L value')\n",
    "plt.grid(True)\n",
    "plt.show()\n"
   ]
  },
  {
   "cell_type": "markdown",
   "metadata": {},
   "source": [
    "에러를 계산할 때는 각 데이터 포인트마다 예측된 라벨과 진짜 라벨값의 차이를 제곱한것들을 더해서 구한다. 예측되는 라벨값은 sigmoid함숫값이 0.5보다 크면 1, 0.5보다 작으면 0 으로 판정하는 sign함수를 활용하여 구하였다.\n",
    "100000번의 iteration을 수행하면서 100번마다 그때까지의 누적 평균 Loss를 저장해둔 Logis_sgd함수에서 반환한 errhist를 가지고 plot하였다.\n",
    "따라서 1000개의 값이 있고 이때의 x축 값들은 iteration 수가 아니라 iteration 수를 100으로 나눈 값이다.\n",
    "위의 표에서 보듯이 누적 평균 loss가 급격하게 감소함을 확인할 수 있고, iteration초기에는 진동폭이 크지만 iteration횟수가 증가할수록 진동폭이 감소함을 확인할 수 있다."
   ]
  },
  {
   "cell_type": "markdown",
   "metadata": {},
   "source": [
    "**P1.3**"
   ]
  },
  {
   "cell_type": "code",
   "execution_count": 178,
   "metadata": {},
   "outputs": [
    {
     "data": {
      "image/png": "[encoded data removed]",
      "text/plain": [
       "<Figure size 432x288 with 1 Axes>"
      ]
     },
     "metadata": {},
     "output_type": "display_data"
    }
   ],
   "source": [
    "x3 = range(0,len(rss))\n",
    "y3 = [rss[v] for v in x3]\n",
    "\n",
    "# Plot the graph\n",
    "plt.plot(x3,y3,'c-',lw=2.5)\n",
    "\n",
    "plt.ylabel('Average sum of squared error value')\n",
    "plt.grid(True)\n",
    "plt.show()\n"
   ]
  },
  {
   "cell_type": "markdown",
   "metadata": {},
   "source": [
    "문제 1.3에서는 training set에서 100,200,...번째 iteration 마다의 w값을 추출하여 이 w값을 이용하여 test data set에 대해 예측치를 구하고 이 예측치와 테스트 데이터의 참값과의 차이를 통해 average sum of squared error를 구했다. 이는 Logis_sgd 함수에서 iteration이 100번째마다의 w를 error_calculate함수의 인자로 넣어서 test data에 대한 error를 rss라는 리스트에 넣어서 반환하였다. \n",
    "이후 이를 plot한 위의 결과를 보면 iteration이 증가할수록 평균 sum of squared값이 급격하게 감소함을 확인할 수 있다. "
   ]
  },
  {
   "cell_type": "markdown",
   "metadata": {},
   "source": [
    "**P2.1**"
   ]
  },
  {
   "cell_type": "code",
   "execution_count": 144,
   "metadata": {},
   "outputs": [],
   "source": [
    "def cal_accuracy(X,y,w):\n",
    "    cnt = 0\n",
    "    y_p = np.zeros(X.shape[0])\n",
    "    for i in range(X.shape[0]):\n",
    "        y_p[i] = sign(sigmoid(np.dot(X[i,:],w)))\n",
    "        if y[i] == y_p[i]:\n",
    "            cnt += 1\n",
    "    \n",
    "    return cnt/X.shape[0]"
   ]
  },
  {
   "cell_type": "code",
   "execution_count": 145,
   "metadata": {},
   "outputs": [],
   "source": [
    "test_accuracy = cal_accuracy(X_t,y_t,whist[-1])"
   ]
  },
  {
   "cell_type": "code",
   "execution_count": 146,
   "metadata": {},
   "outputs": [
    {
     "data": {
      "text/plain": [
       "0.5634328358208955"
      ]
     },
     "execution_count": 146,
     "metadata": {},
     "output_type": "execute_result"
    }
   ],
   "source": [
    "test_accuracy"
   ]
  },
  {
   "cell_type": "markdown",
   "metadata": {},
   "source": [
    "1.1의 Logis_sgd함수를 보면 마지막에 iteration마다 저장한 w들을 반환함을 확인할 수 있다. 그래서 총 10만개의 w값이 저장된 리스트인 whist의 마지막 w값을 모델 정확도를 판별하는데 사용한다. 정확도는 전체 데이터 포인트 개수에서 예측치와 참값이 일치하는 데이터 포인트 개수의 비율로 정의되므로 가중치 w와 test 데이터셋의 독립변수값과 종속변수값들을 인자로 받는 cal_accuracy 함수를 구현하여 예측치와 참값이 같은 데이터 포인트의 개수를 세서 전체 데이터 포인트 개수로 나눈 accuracy를 반환하였다. 그 결과 테스트 정확도가 약 0.56이 나왔다. 이는 모델이 너무 단순하고 w값이 계속 진동하는 것 때문에 나타난 결과로 보인다. 또한 데이터셋에 대한 자세한 정보가 없지만 직접 데이터들을 살펴본 결과 데이터들의 feature value가 0인 부분이 군데군데 있었다. 나이 같은 0일 수가 없는 수치까지도 0인 항목들이 조금 있었다. "
   ]
  },
  {
   "cell_type": "markdown",
   "metadata": {},
   "source": [
    "**P2.2**"
   ]
  },
  {
   "cell_type": "code",
   "execution_count": 156,
   "metadata": {},
   "outputs": [],
   "source": [
    "def avg_w(w_hist):\n",
    "    sum_w = np.zeros(8)\n",
    "    for i in range(99000,100000):\n",
    "        sum_w += whist[i]\n",
    "    return sum_w/1000"
   ]
  },
  {
   "cell_type": "code",
   "execution_count": 157,
   "metadata": {},
   "outputs": [],
   "source": [
    "avg_w = avg_w(whist)"
   ]
  },
  {
   "cell_type": "code",
   "execution_count": 159,
   "metadata": {},
   "outputs": [],
   "source": [
    "test_accuracy2 = cal_accuracy(X_t,y_t,avg_w)"
   ]
  },
  {
   "cell_type": "code",
   "execution_count": 160,
   "metadata": {},
   "outputs": [
    {
     "data": {
      "text/plain": [
       "0.667910447761194"
      ]
     },
     "execution_count": 160,
     "metadata": {},
     "output_type": "execute_result"
    }
   ],
   "source": [
    "test_accuracy2"
   ]
  },
  {
   "cell_type": "markdown",
   "metadata": {},
   "source": [
    "2.2에서는 총 십만번의 iteration 중 마지막 1000개의 가중치들의 평균을 사용하여 정확도를 측정한다. 십만개의w값들이 저장되어있는 whist를 인자로 받는 avg_w라는 함수를 구현하여 99000번째부터 99999번째까지의 가중치들의 평균 가중치를 반환하게 하였다. 이 평균 가중치를 사용하여 테스트 데이터셋에 대해 정확도를 측정한 결과 2.1에서의 결과인 56%보다 거의 10%나 향상된 약 67%의 정확도가 나타났다. 이 결과를 봤을 때, 가중치들의 진동폭의 영향이 어느 정도 있고, 이는 평균 가중치를 사용하면 영향을 상쇄시켜서 정확도를 눈에 띄게 향상시킬 수 있음을 알 수 있다."
   ]
  },
  {
   "cell_type": "markdown",
   "metadata": {},
   "source": [
    "**P2.3**"
   ]
  },
  {
   "cell_type": "code",
   "execution_count": 161,
   "metadata": {},
   "outputs": [
    {
     "name": "stdout",
     "output_type": "stream",
     "text": [
      "weight for BMI: -1.3059873054861209, weight for Insulin: 1.1216882849050351, weight for PGC: 2.1600140285727547 \n"
     ]
    }
   ],
   "source": [
    "print('weight for BMI: {0}, weight for Insulin: {1}, weight for PGC: {2} '.format(avg_w[5],avg_w[4],avg_w[1]))"
   ]
  },
  {
   "cell_type": "markdown",
   "metadata": {},
   "source": [
    "보다 정확한 accuracy를 보였던 문제2.2에서 계산한 평균 w값을 사용하였다. \n",
    "BMI와 Insulin, PGC에 대한 가중치를 살펴 본 결과, 세 항목 중 가장 당뇨병 발병 여부에 영향을 크게 끼치는 항목은 가장 절댓값이 높은 PGC라고 볼 수 있다. 또한 특정 항목에 해당하는 feature값의 부호가 '+'이고 크기가 클수록 score value가 커지고 score value가 커질수록 sigmoid fuction의 함숫값이 1에 가까워 지므로 당뇨병이라고 판정될 확률이 큰 것이다. 따라서 PGC 의 w는 약 2.16이므로 PGC가 클수록 당뇨병으로 판정될 확률이 높다고 생각할 수 있다. 반대로 weight 부호가 '-'일때는 그 반대 작용으로 정상이라고 판정될 확률이 커지는 것이다. \n"
   ]
  },
  {
   "cell_type": "code",
   "execution_count": null,
   "metadata": {},
   "outputs": [],
   "source": []
  },
  {
   "cell_type": "code",
   "execution_count": null,
   "metadata": {},
   "outputs": [],
   "source": []
  }
 ],
 "metadata": {
  "kernelspec": {
   "display_name": "Python 3",
   "language": "python",
   "name": "python3"
  },
  "language_info": {
   "codemirror_mode": {
    "name": "ipython",
    "version": 3
   },
   "file_extension": ".py",
   "mimetype": "text/x-python",
   "name": "python",
   "nbconvert_exporter": "python",
   "pygments_lexer": "ipython3",
   "version": "3.6.7"
  }
 },
 "nbformat": 4,
 "nbformat_minor": 2
}
