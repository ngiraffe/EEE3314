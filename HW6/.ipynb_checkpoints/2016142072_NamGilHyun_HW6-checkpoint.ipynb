{
 "cells": [
  {
   "cell_type": "markdown",
   "metadata": {},
   "source": [
    "> ### EEE3314-02: Introduction to Artificial Intelligence\n",
    "\n",
    "# Assignment \\# VI: Perceptron"
   ]
  },
  {
   "cell_type": "markdown",
   "metadata": {},
   "source": [
    "<div style=\"text-align: right\"> **Due date: Dec. 7, 2018.** </div> \n",
    "<div style=\"text-align: right\"> **Please upload your file @ yscec by 9 PM.** </div> \n",
    "<h4><div style=\"text-align: right\"> **For one day late (70% credit), please send your file to your TAs in the form of [ID_Name_HW6.ipynb].**</div> </h4>\n",
    "<div style=\"text-align: right\"> Beomjun Kim(김범준): <a href=\"mailto:beomjun.kim@yonsei.ac.kr\">beomjun.kim@yonsei.ac.kr</a> </div>\n",
    "<div style=\"text-align: right\"> Chanho Um(엄찬호): <a href=\"mailto:chanho0103@yonsei.ac.kr\">chanho0103@yonsei.ac.kr</a> </div>"
   ]
  },
  {
   "cell_type": "markdown",
   "metadata": {},
   "source": [
    "### *Assignement Instructions:*\n",
    "- Write a program implementing a particular algorithm to solve a given problem.   \n",
    "- <h4><span style=\"color:red\">**Report and discuss your results. Analyze the algorithm, theoretically and empirically. **</span> </h4>\n",
    "\n",
    "### *Collaboration policy:*\n",
    "- You may discuss the questions.   \n",
    "- Each student writes their own answers.   \n",
    "- **Write on your homework anyone with whom you collaborate.**   \n",
    "- Each student must write their own code for the programming part (**if not you will get a F grade**)."
   ]
  },
  {
   "cell_type": "markdown",
   "metadata": {},
   "source": [
    "<h2><span style=\"color:blue\">[2016142072] [NamGilHyun]</span> </h2>"
   ]
  },
  {
   "cell_type": "code",
   "execution_count": 86,
   "metadata": {},
   "outputs": [
    {
     "name": "stdout",
     "output_type": "stream",
     "text": [
      "This code is written at 2018-11-26 18:13:15.528892\n"
     ]
    }
   ],
   "source": [
    "import datetime\n",
    "print(\"This code is written at \" + str(datetime.datetime.now()))"
   ]
  },
  {
   "cell_type": "markdown",
   "metadata": {},
   "source": [
    "## Problem description"
   ]
  },
  {
   "cell_type": "markdown",
   "metadata": {},
   "source": [
    "In this problem, we will implemnt an online perceptron algorithm using a MNIST dataset. The MNIST dataset contains handwritten digits that is commonly used for testing various machine learning algorithms. We use a subset of the dataset only. The training data ($\\texttt{perceptron_training_data.csv}$) contains two handwritten digits, either 3 or 5, labeled as 1 or -1, respectively. We can visualize each sample using the $\\texttt{imshow}$ function after reshaping $794$-dimensional vector to a $28 \\times 28$ matrix."
   ]
  },
  {
   "cell_type": "markdown",
   "metadata": {},
   "source": [
    "(*80 points*) P1.1 Implement an online perceptron algorithm.\n",
    "\n",
    "(*10 points*) P1.2 Plot the number of missclassifications over epochs on the training set ($\\texttt{perceptron_training_data.csv}$). \n",
    "  > Initialize weights and the bias to 0.    \n",
    "  > Number of epoch: 100    \n",
    "  > An epoch is one complete presentation of the data set to be learned to a learning machine. For example, the total number of iterations is 500 for 5 epochs when the training dataset consists of 100 samples.\n",
    "  \n",
    "(*10 points*) P1.3 Plot the accuracy over epochs on the test set ($\\texttt{perceptron_test_data.csv}$).\n",
    "  > Initialize weights and the bias to 0.       \n",
    "> Number of epoch: 100"
   ]
  },
  {
   "cell_type": "markdown",
   "metadata": {},
   "source": [
    "**P1.1**"
   ]
  },
  {
   "cell_type": "code",
   "execution_count": 87,
   "metadata": {},
   "outputs": [],
   "source": [
    "import numpy as np\n",
    "import pandas as pd\n",
    "from matplotlib import pyplot as plt\n",
    "\n",
    "data = pd.read_csv('perceptron_training_data.csv') # Load training and test Data\n",
    "test_data = pd.read_csv('perceptron_test_data.csv')\n",
    "\n",
    "data_np = data.values  # Change dataframe object to numpy array\n",
    "test_data_np = test_data.values\n",
    "\n",
    "y = data_np[:,0] # Data preprocessing\n",
    "X = data_np[:,1:]\n",
    "y_t = test_data_np[:,0]\n",
    "X_t = test_data_np[:,1:]\n",
    "X2 = np.c_[np.zeros(data_np.shape[0]), X] # Consider Intercept(bias) term  - initialize bias as 0\n",
    "X2_t = np.c_[np.zeros(test_data.shape[0]), X_t] # Consider Intercept(bias) term  - initialize bias as 0\n"
   ]
  },
  {
   "cell_type": "markdown",
   "metadata": {},
   "source": [
    "주어진 MNIST dataset을 종속변수 y와 독립변수 X로 분리한 후(트레이닝, 테스트 데이터 모두) X에 bias term을 추가한 X2와 X2_t를 만들었다. 이는 P1.2와 P1.3에서 사용될 것이다."
   ]
  },
  {
   "cell_type": "code",
   "execution_count": 88,
   "metadata": {},
   "outputs": [
    {
     "name": "stdout",
     "output_type": "stream",
     "text": [
      "A label for 2th sample in the training set is 1\n"
     ]
    },
    {
     "data": {
      "image/png": "[encoded data removed]",
      "text/plain": [
       "<Figure size 432x288 with 1 Axes>"
      ]
     },
     "metadata": {},
     "output_type": "display_data"
    }
   ],
   "source": [
    "# Checking data\n",
    "sample_number = 1\n",
    "n_col = 28\n",
    "n_row = 28\n",
    "im=plt.imshow(X[sample_number].reshape(n_col,n_col))\n",
    "print('A label for %dth sample in the training set is %d' % (sample_number+1, y[sample_number]))"
   ]
  },
  {
   "cell_type": "markdown",
   "metadata": {},
   "source": [
    "mnist dataset을 실제로 확인해보았다. dataset의 2번째 샘플의 label 값이 1인데, 실제로 X[1] 에 대해 28X28 vertor로 reshape해준 후에 imshow()를 이용하여 이미지를 보면 숫자 3임을 확인할 수 있다."
   ]
  },
  {
   "cell_type": "code",
   "execution_count": 89,
   "metadata": {},
   "outputs": [],
   "source": [
    "\n",
    "def sign(x): # Implement sign function\n",
    "    if x>=0:\n",
    "        return 1\n",
    "    else:\n",
    "        return -1\n",
    "        \n",
    "\n",
    "        \n",
    "\n",
    "def perceptron(N,X,y):\n",
    "   \n",
    "    w =  np.zeros(len(X[0,:])) # Initialize weight as 0\n",
    "    NM_set = []\n",
    "    w_set = []\n",
    "    for i in range(N):\n",
    "        N_miss = 0\n",
    "        for j in range(X.shape[0]):\n",
    "            y_p = sign(np.dot(X[j,:],w)) # predict y\n",
    "            if y_p != y[j]:\n",
    "                w = w + X[j]*y[j]\n",
    "        \n",
    "        w_set.append(w) # Saving weights\n",
    "        for k in range(X.shape[0]): # Calculate the number of misclassification\n",
    "            y_p = sign(np.dot(X[k,:],w))\n",
    "            \n",
    "            if y_p != y[k]:\n",
    "                N_miss+=1 \n",
    "                \n",
    "        NM_set.append(N_miss) # Saving number of missclassification\n",
    "        \n",
    "    \n",
    "    return NM_set, w_set\n"
   ]
  },
  {
   "cell_type": "markdown",
   "metadata": {},
   "source": [
    "종속변수가 1인지 -1인지 구분하는 binary classification 문제에 해당한다. 이때 퍼셉트론 알고리즘에서는 종속변수에 대한 예측을 다음과 같이 한다.\n",
    " \n",
    "\\\\(\\hat { y } =sign(w\\cdot X)\\\\) \n",
    "\n",
    "이때 sign function은 input x가 0이상이면 1, 0 미만이면 -1을 output으로 하는 함수이다.\n",
    "iteration에 따른 weight 업데이트는 다음과 같이 예측이 참값과 같을 때와 아닐때로 나누어서 한다.\n",
    "\n",
    "\\\\(\\hat { y } ={ y }_{ t },\\quad { w }^{ (t+1) }\\leftarrow { w }^{ (t) }\\\\)\n",
    "\n",
    "\n",
    "\\\\(\\hat { y } \\neq { y }_{ t },\\quad { w }^{ (t+1) }\\leftarrow { w }^{ (t) }+{ y }_{ t }{ X }_{ t }\\\\)\n",
    "\n",
    "왜 이런 식으로 weight을 업데이트하는게 합리적인지를 예를 들어서 살펴보겠다. \n",
    "y의 참값이 1이지만 예측값이 -1일때는 살펴보자면 w와 X의 내적이 0보다 작을때이다. 이를 맞게 하려면 w와 X의 내적값이 커져야 한다. X는 고정이므로 w를 바꿔야 하는데, X와 어떤 벡터를 내적해서 가장 큰 벡터는 X이다. (cos값이 1이므로) 따라서 y는 1이고 X를 곱해주는 것이 가장 w와 X의 내적을 크게 증가하는 것이다. y의 참값이 -1이고 예측값이 1일때도 이와 같이 생각해보면 쉽게 알 수 있다. 이때는 w와 X의 내적값이 작아져야 한다. y가 -1이므로 X를 곱해주는 것이 가장 많이 감소하는 것이다.\n",
    "\n",
    "이러한 알고리즘을 코드로 구현하여, 인풋으로는 epoch의 수와 training data X,training data y를 받고 epoch마다의 missclassification의 개수가 저장된 NM_set, epoch마다의 w값이 저장된 w_set을 반환하는 perceptron함수를 구현하였다.\n",
    "\n",
    "이는 1.2에서 epoch에 따른 missclassification을, 1.3에서 test set에 대한 accuracy를 plot해야 하기 때문이다. 한 epoch마다 missclassification의 개수와 업데이트된 w값을 저장한다. "
   ]
  },
  {
   "cell_type": "markdown",
   "metadata": {},
   "source": [
    "**P1.2**"
   ]
  },
  {
   "cell_type": "code",
   "execution_count": 90,
   "metadata": {},
   "outputs": [
    {
     "data": {
      "image/png": "[encoded data removed]",
      "text/plain": [
       "<Figure size 432x288 with 1 Axes>"
      ]
     },
     "metadata": {},
     "output_type": "display_data"
    }
   ],
   "source": [
    "NM_set, w_set = perceptron(100,X2,y)\n",
    "x1 = range(0,len(NM_set))\n",
    "y1 = [NM_set[v] for v in x1]\n",
    "\n",
    "# Plot the graph\n",
    "plt.plot(x1,y1,'c-',lw=2.5)\n",
    "plt.xlabel('Epoch')\n",
    "plt.ylabel('Number of Misclassification')\n",
    "plt.grid(True)\n",
    "plt.show()"
   ]
  },
  {
   "cell_type": "markdown",
   "metadata": {},
   "source": [
    "대체적으로 missclassification의 개수가 epoch가 증가할수록 감소함을 확인할 수 있다. 40 정도부터는 missclassification의 개수가 0이된다.\n",
    "다만 진동폭이 다소 큰 것을 확인할 수 있는데, 이는 위의 알고리즘 설명 부분에 나와있듯이 weight 변화시키는 양이 어느 정도 크기 때문인 것으로 보인다. 이를 해결할 수 있는 방법으로는 기존 w에 더해지는 항에 곱하는 learning rate와 같은 hyperparameter를 추가하여 이를 작게 하여 weight변화폭을 작게하는 방법이 있겠다.\n"
   ]
  },
  {
   "cell_type": "markdown",
   "metadata": {},
   "source": [
    "**P1.3**"
   ]
  },
  {
   "cell_type": "code",
   "execution_count": 91,
   "metadata": {},
   "outputs": [],
   "source": [
    "# Implementing accuracy calculate function\n",
    "def accuracy(N,w,X,y):\n",
    "  \n",
    "    AC_set = []\n",
    "    for i in range(N):\n",
    "        N_miss = 0\n",
    "        \n",
    "        for k in range(X.shape[0]):\n",
    "            y_p = sign(np.dot(X[k,:],w[i]))\n",
    "            \n",
    "            if y_p != y[k]:\n",
    "                N_miss+=1 \n",
    "                \n",
    "        AC_set.append((X.shape[0]-N_miss)/len(y)) # Save accuracy of test set\n",
    "    \n",
    "    return AC_set\n",
    "\n",
    "    "
   ]
  },
  {
   "cell_type": "code",
   "execution_count": 92,
   "metadata": {},
   "outputs": [
    {
     "data": {
      "image/png": "[encoded data removed]",
      "text/plain": [
       "<Figure size 432x288 with 1 Axes>"
      ]
     },
     "metadata": {},
     "output_type": "display_data"
    }
   ],
   "source": [
    "# Plot the graph\n",
    "AC_set_t = accuracy(100,w_set,X2_t,y_t)\n",
    "x2 = range(0,len(AC_set_t))\n",
    "y2 = [AC_set_t[v] for v in x2]\n",
    "\n",
    "# Plot the graph\n",
    "plt.plot(x2,y2,'c-',lw=2.5)\n",
    "plt.xlabel('Epoch')\n",
    "plt.ylabel('Accuracy')\n",
    "plt.grid(True)\n",
    "plt.show()"
   ]
  },
  {
   "cell_type": "markdown",
   "metadata": {},
   "source": [
    "epoch에 따른 w가 저장된 집합을 받아서 test set X, y에 적용해서 w를 사용한 예측치와 참값y를 비교하여 missclassification 수를 계산하여 이를 통해 전체 데이터 포인트의 수 분의 맞게 예측한 포인트 수로 epoch에 따른 accuracy를 저장한 accuracy함수를 구현하였다. training시 저장해 두었던 w_set을 활용하여 accuracy 함수의 input으로 넣어 주었다. epoch에 따른 test set의 accuracy를 plot 했더니 위와 같았다. 대체적인 경향은 1.2의 misclassification의 개수와 비슷했다. accuracy도 어느 정도 진동하며 epoch가 증가할수록 증가하며, 40 부근부터는 0.94정도로 일정한 accuracy값을 가지는 것을 확인할 수 있다. 다만, dataset이 다르기 때문에 accuracy가 1이 아닌 0.94로 수렴하는 것을 확인 할 수 있었고, 이는 w가 training set에 어느 정도 fit되었기 때문이라고 볼 수 있겠다.  "
   ]
  },
  {
   "cell_type": "code",
   "execution_count": null,
   "metadata": {},
   "outputs": [],
   "source": []
  }
 ],
 "metadata": {
  "kernelspec": {
   "display_name": "Python 3",
   "language": "python",
   "name": "python3"
  },
  "language_info": {
   "codemirror_mode": {
    "name": "ipython",
    "version": 3
   },
   "file_extension": ".py",
   "mimetype": "text/x-python",
   "name": "python",
   "nbconvert_exporter": "python",
   "pygments_lexer": "ipython3",
   "version": "3.6.5"
  }
 },
 "nbformat": 4,
 "nbformat_minor": 2
}
