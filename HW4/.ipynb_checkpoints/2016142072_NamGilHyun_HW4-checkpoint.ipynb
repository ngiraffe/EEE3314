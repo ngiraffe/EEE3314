{
 "cells": [
  {
   "cell_type": "markdown",
   "metadata": {},
   "source": [
    "> ### EEE3314-02: Introduction to Artificial Intelligence\n",
    "\n",
    "# Assignment \\# IV: KNN Classifier"
   ]
  },
  {
   "cell_type": "markdown",
   "metadata": {},
   "source": [
    "<div style=\"text-align: right\"> **Due date: 16 Nov., 2018.** </div> \n",
    "<div style=\"text-align: right\"> **Please upload your file @ yscec by 9 PM.** </div> \n",
    "<h4><div style=\"text-align: right\"> **For one day late (70% credit), please send your file to your TAs in the form of [ID_Name_HW4.ipynb].**</div> </h4>\n",
    "<div style=\"text-align: right\"> Beomjun Kim(김범준): <a href=\"mailto:beomjun.kim@yonsei.ac.kr\">beomjun.kim@yonsei.ac.kr</a> </div>\n",
    "<div style=\"text-align: right\"> Chanho Um(엄찬호): <a href=\"mailto:chanho0103@yonsei.ac.kr\">chanho0103@yonsei.ac.kr</a> </div>"
   ]
  },
  {
   "cell_type": "markdown",
   "metadata": {},
   "source": [
    "### *Assignement Instructions:*\n",
    "- Write a program implementing a particular algorithm to solve a given problem.   \n",
    "- <h4><span style=\"color:red\">**Report and discuss your results. Analyze the algorithm, theoretically and empirically. **</span> </h4>\n",
    "\n",
    "### *Collaboration policy:*\n",
    "- You may discuss the questions.   \n",
    "- Each student writes their own answers.   \n",
    "- **Write on your homework anyone with whom you collaborate.**   \n",
    "- Each student must write their own code for the programming part (**if not you will get a F grade**)."
   ]
  },
  {
   "cell_type": "markdown",
   "metadata": {},
   "source": [
    "<h2><span style=\"color:blue\">[2016142072] [NamGilHyun]</span> </h2>"
   ]
  },
  {
   "cell_type": "code",
   "execution_count": 20,
   "metadata": {},
   "outputs": [
    {
     "name": "stdout",
     "output_type": "stream",
     "text": [
      "This code is written at 2018-11-12 14:25:12.141972\n"
     ]
    }
   ],
   "source": [
    "import datetime\n",
    "print(\"This code is written at \" + str(datetime.datetime.now()))"
   ]
  },
  {
   "cell_type": "markdown",
   "metadata": {},
   "source": [
    "## Problem description"
   ]
  },
  {
   "cell_type": "markdown",
   "metadata": {},
   "source": [
    "In this homework, we will implement a k-NN classifier with the MNIST dataset. The MNIST dataset contains handwritten digits with corresponding labels from $0$ to $9$, and it has been commonly used for testing various machine learning algorithms. The $\\texttt{sklearn.datasets}$ package provides the MNIST dataset. You can load the dataset as follows."
   ]
  },
  {
   "cell_type": "code",
   "execution_count": 21,
   "metadata": {},
   "outputs": [],
   "source": [
    "from sklearn import datasets\n",
    "import numpy as np"
   ]
  },
  {
   "cell_type": "code",
   "execution_count": 22,
   "metadata": {},
   "outputs": [],
   "source": [
    "mnist = datasets.load_digits()"
   ]
  },
  {
   "cell_type": "markdown",
   "metadata": {},
   "source": [
    "The $\\texttt{train_test_split}$ function from $\\texttt{sklearn.cross_validation}$ package makes it easy to split datasets into training and test sets. We can easily makes a validation set from the test one as well. See the example shown below."
   ]
  },
  {
   "cell_type": "code",
   "execution_count": 23,
   "metadata": {},
   "outputs": [],
   "source": [
    "from sklearn.model_selection import train_test_split"
   ]
  },
  {
   "cell_type": "code",
   "execution_count": 24,
   "metadata": {},
   "outputs": [],
   "source": [
    "(X_train, X_test, y_train, y_test) = train_test_split(np.array(mnist.data), mnist.target, test_size=0.33, random_state=42)\n",
    "(X_train, X_val, y_train, y_val) = train_test_split(X_train, y_train, test_size=0.33, random_state=42)"
   ]
  },
  {
   "cell_type": "markdown",
   "metadata": {},
   "source": [
    "where X_train, X_test and X_val are training, test, and validation sets, respectively. y_train, y_test and y_val are labels for X_train, X_test, and X_val, respectively."
   ]
  },
  {
   "cell_type": "markdown",
   "metadata": {},
   "source": [
    "The datset contains 64-dimensional vectors, and we can visualize each one with the $\\texttt{imshow}$ function after reshaping it as follows."
   ]
  },
  {
   "cell_type": "code",
   "execution_count": 25,
   "metadata": {},
   "outputs": [],
   "source": [
    "import matplotlib.pyplot as plt"
   ]
  },
  {
   "cell_type": "code",
   "execution_count": 26,
   "metadata": {},
   "outputs": [
    {
     "name": "stdout",
     "output_type": "stream",
     "text": [
      "A label for 8th sample in the training set is 5\n"
     ]
    },
    {
     "data": {
      "image/png": "[encoded data removed]",
      "text/plain": [
       "<Figure size 432x288 with 1 Axes>"
      ]
     },
     "metadata": {},
     "output_type": "display_data"
    }
   ],
   "source": [
    "sample_number = 8\n",
    "n_col = 8\n",
    "n_row = 8\n",
    "im=plt.imshow(X_train[sample_number].reshape(n_col,n_col))\n",
    "print('A label for %dth sample in the training set is %d' % (sample_number, y_train[sample_number]))"
   ]
  },
  {
   "cell_type": "markdown",
   "metadata": {},
   "source": [
    "(*80 points*) P1.1 Implement a K-NN classifier.    \n",
    "(*20 points*) P1.2 The number of nearest neighbors $k$ in the classifier is a hyperparameter. Plot accuracy on the validation set according to the value of $k$, where $k = 1,2,...,20$. Choose the optimal $k$ value from the plot and compute accuracy on the test set. \n"
   ]
  },
  {
   "cell_type": "markdown",
   "metadata": {},
   "source": [
    "**P1.1**"
   ]
  },
  {
   "cell_type": "code",
   "execution_count": 27,
   "metadata": {},
   "outputs": [],
   "source": [
    "def m_vote(vs): # majority vote function\n",
    "    v_c = {}\n",
    "    w=[]\n",
    "    for v in vs:\n",
    "        if v in v_c:\n",
    "            v_c[v] += 1\n",
    "        else:\n",
    "            v_c[v] = 1\n",
    "    \n",
    "    max_c = max(v_c.values())\n",
    "    \n",
    "    for v, c in v_c.items():\n",
    "        if c == max_c:\n",
    "            w.append(v)\n",
    "    \n",
    "    return w[0]\n",
    "\n",
    "import operator\n",
    "\n",
    "def KNN(k, X_train, y_train, x_q):\n",
    "    a=[]\n",
    "    \n",
    "    dic1 = dict(zip(range(0, len(X_train)), [np.linalg.norm(X_train[i]-x_q) for i in range(0, len(X_train))])) # 쿼리 포인트와의 유클리디언 distance를 밸류 값으로 갖는 사전형 생성\n",
    "    dic2 = sorted(dic1.items(),key=operator.itemgetter(1)) # 거리가 점점 커지는 순으로 정렬\n",
    "    dic2 = dict(dic2)\n",
    "    r= list(dic2.keys())\n",
    "    for j in range(k):\n",
    "        a.append(y_train[r[j]])\n",
    "    \n",
    "    predicted_y = m_vote(a) # Majority vote 함수를 이용하여 가장 많이 나온 y값을 예측y값으로 한다.\n",
    "    \n",
    "    return predicted_y"
   ]
  },
  {
   "cell_type": "markdown",
   "metadata": {},
   "source": [
    "KNN classifier의 경우에 input으로 query point와 가까운 몇개를 고려할 것인지 결정하는 k와  query point, training set 의 독립변수들과 training set의 종속변수 를 인자로 받아 예측된 y값(label) 을 반환하게 한다. 그래서 코드를 이러한 방식으로 구현했다.\n",
    "구체적으로는, 먼저 X_train안의 각각의 데이터 포인트들마다 쿼리 포인트와의 eucledian distance를 연결한 사전형 데이터를 만들었고, 이 사전형 데이터를 value값이 distance 이므로 value값에 따라 정렬하여 X_train들 중에서 query point와 eucledian distance가 점점 커지는 순서대로 정렬하였다. 그래서 앞에서 첫번째 원소부터 k번째 원소까지 고른 후에 이 k개 데이터들의 y값, 즉 라벨값을 a에 저장하였다.\n",
    "m_vote함수는 다수결 투표 함수인데 리스트를 받아서 해당 리스트에서 가장 많이 나온 값을 반환하는 함수이다. \n",
    "따라서 a를 인수로 받으면 k개 데이터들의 y값 중 가장 많이 나온 y값을 반환하므로 이를 예측된 y로 사용한다. 여기서 만약 k개중 가장 많은 빈도수를 공통으로 가지는 y값이 있을 수 있는데 이때에는 먼저 나온 y값, 즉 query point와의 거리가 더 작은 x값의 라벨을 선택하게 하였다. 랜덤으로 하는 것보다는 이 방법이 조금더 정확도를 향상시킬 수 있다고 생각하였다. 이렇게 같은 빈도수일때 어떤 라벨값을 택한 것인지에 따라 결과값에서 조금 차이가 날 수 있겠다. "
   ]
  },
  {
   "cell_type": "code",
   "execution_count": 28,
   "metadata": {},
   "outputs": [
    {
     "data": {
      "text/plain": [
       "(806, 64)"
      ]
     },
     "execution_count": 28,
     "metadata": {},
     "output_type": "execute_result"
    }
   ],
   "source": [
    "X_train.shape"
   ]
  },
  {
   "cell_type": "code",
   "execution_count": 29,
   "metadata": {},
   "outputs": [
    {
     "data": {
      "text/plain": [
       "(397, 64)"
      ]
     },
     "execution_count": 29,
     "metadata": {},
     "output_type": "execute_result"
    }
   ],
   "source": [
    "X_val.shape"
   ]
  },
  {
   "cell_type": "code",
   "execution_count": 30,
   "metadata": {},
   "outputs": [
    {
     "data": {
      "text/plain": [
       "(594, 64)"
      ]
     },
     "execution_count": 30,
     "metadata": {},
     "output_type": "execute_result"
    }
   ],
   "source": [
    "X_test.shape"
   ]
  },
  {
   "cell_type": "markdown",
   "metadata": {},
   "source": [
    "**P1.2**"
   ]
  },
  {
   "cell_type": "code",
   "execution_count": 31,
   "metadata": {},
   "outputs": [],
   "source": [
    "def cal_accuracy(y_p,y_t): # Accuracy calculate function\n",
    "    cnt = 0\n",
    "    for i in range(len(y_t)):\n",
    "        \n",
    "        if y_t[i] == y_p[i]:\n",
    "            cnt += 1\n",
    "    \n",
    "    return cnt/len(y_t)"
   ]
  },
  {
   "cell_type": "code",
   "execution_count": 32,
   "metadata": {},
   "outputs": [],
   "source": [
    "acu_set=[]\n",
    "\n",
    "for j in range(20):\n",
    "    \n",
    "    y_set=[]\n",
    "    for i in range(X_val.shape[0]):\n",
    "        y_set.append(KNN(j+1,X_train,y_train,X_val[i]))\n",
    "    acu_set.append(cal_accuracy(y_val,y_set)) # acu_set에 k가 1,2,...,20일때의 validation set에 대한 accuracy값 저장"
   ]
  },
  {
   "cell_type": "code",
   "execution_count": 33,
   "metadata": {},
   "outputs": [
    {
     "data": {
      "image/png": "[encoded data removed]",
      "text/plain": [
       "<Figure size 432x288 with 1 Axes>"
      ]
     },
     "metadata": {},
     "output_type": "display_data"
    }
   ],
   "source": [
    "\n",
    "# Plot the graph\n",
    "plt.scatter(range(1,21),acu_set)\n",
    "plt.title('P1.2')\n",
    "plt.ylabel('Accuracy(val)')\n",
    "plt.xlabel('K')\n",
    "plt.grid(True)\n",
    "plt.show()"
   ]
  },
  {
   "cell_type": "code",
   "execution_count": 34,
   "metadata": {},
   "outputs": [
    {
     "data": {
      "text/plain": [
       "[0.9773299748110831,\n",
       " 0.9773299748110831,\n",
       " 0.982367758186398,\n",
       " 0.982367758186398,\n",
       " 0.9748110831234257,\n",
       " 0.9773299748110831,\n",
       " 0.9748110831234257,\n",
       " 0.9798488664987406,\n",
       " 0.9722921914357683,\n",
       " 0.9722921914357683,\n",
       " 0.9722921914357683,\n",
       " 0.9722921914357683,\n",
       " 0.9672544080604534,\n",
       " 0.9672544080604534,\n",
       " 0.9672544080604534,\n",
       " 0.9546599496221663,\n",
       " 0.9571788413098237,\n",
       " 0.9521410579345088,\n",
       " 0.9445843828715366,\n",
       " 0.9445843828715366]"
      ]
     },
     "execution_count": 34,
     "metadata": {},
     "output_type": "execute_result"
    }
   ],
   "source": [
    "acu_set"
   ]
  },
  {
   "cell_type": "code",
   "execution_count": 35,
   "metadata": {},
   "outputs": [
    {
     "name": "stdout",
     "output_type": "stream",
     "text": [
      "test accuracy: 0.98989898989899 \n"
     ]
    }
   ],
   "source": [
    "y_pre = []\n",
    "for i in range(X_test.shape[0]):\n",
    "        y_pre.append(KNN(4,X_train,y_train,X_test[i]))\n",
    "\n",
    "test_accuracy = cal_accuracy(y_test,y_pre) # k = 4 일때 test accuracy\n",
    "print('test accuracy: {0} '.format(test_accuracy))"
   ]
  },
  {
   "cell_type": "code",
   "execution_count": 36,
   "metadata": {},
   "outputs": [
    {
     "name": "stdout",
     "output_type": "stream",
     "text": [
      "test accuracy: 0.9865319865319865 \n"
     ]
    }
   ],
   "source": [
    "y_pre = []\n",
    "for i in range(X_test.shape[0]):\n",
    "        y_pre.append(KNN(3,X_train,y_train,X_test[i]))\n",
    "\n",
    "test_accuracy = cal_accuracy(y_test,y_pre) # k = 3 일때 test accuracy\n",
    "print('test accuracy: {0} '.format(test_accuracy))"
   ]
  },
  {
   "cell_type": "code",
   "execution_count": 37,
   "metadata": {},
   "outputs": [],
   "source": [
    "acu_set1=[]\n",
    "\n",
    "for j in range(20):\n",
    "    \n",
    "    y_set=[]\n",
    "    for i in range(X_val.shape[0]):\n",
    "        y_set.append(KNN(j+1,X_train,y_train,X_test[i]))\n",
    "    acu_set1.append(cal_accuracy(y_test,y_set)) # acu_set1에 k가 1,2,...,20일때의  test set에 대한 accuracy값 저장"
   ]
  },
  {
   "cell_type": "code",
   "execution_count": 38,
   "metadata": {},
   "outputs": [
    {
     "data": {
      "image/png": "[encoded data removed]",
      "text/plain": [
       "<Figure size 432x288 with 1 Axes>"
      ]
     },
     "metadata": {},
     "output_type": "display_data"
    }
   ],
   "source": [
    "\n",
    "# Plot the graph\n",
    "plt.scatter(range(1,21),acu_set1)\n",
    "plt.title('P1.2-2')\n",
    "plt.ylabel('Accuracy(test)')\n",
    "plt.xlabel('K')\n",
    "plt.grid(True)\n",
    "plt.show()"
   ]
  },
  {
   "cell_type": "markdown",
   "metadata": {},
   "source": [
    "shape로 train, validation, testset을 확인해 본 결과 약 4:2:3의 비율로 나누어져 있음을 확인하였다. \n",
    "1.1에서 구현한 KNN은 한개의 query point에 대한 예측치를 반환하는 함수이므로, validation이나 test set에 대한 accuracy를 계산하려면 set에 있는 모든 데이터 포인트들의 예측값과 참값을 비교해야 하므로 예측값들의 집합과 참값들의 집합을 받아서 accuracy를 계산하는 cal_accuracy를 만들구현하였다. 이후 이중 for문을 사용해서 acu_set에 k가 1,2,...20일때의 accuracy를 저장하였고 이를 plot하였다. k의 값에 따라 차이가 있지만 약 94~5%이상으로 accuracy가 나오는 것을 보고 생각보다 높은 정확도에 신기했다. 그래프에서 확인한 결과 k가 3일때와 4일때가 accuracy가 0.982367758186398로 제일 높았다. 위에서 언급했듯이 같은 빈도수를 가지는 라벨값이일때 어떤 라벨값을 택한 것인지에 따라 조금씩 차이가 있을 것이다.\n",
    "\n",
    "따라서 test set에 대해 accuracy를 구해본 결과 k가 3일 때는 accuracy가 0.9865319865319865 , k가 4일 때는 accuracy가 0.98989898989899 이었다. 이때의 accuracy가 실제로 최대인지 확인해보기 위해 추가적으로 k가 1~20일때의 accuracy도 plot해본 결과 k가 4일때가 0.98989898989899 로 최대임을 확인할 수 있었다. test에 대한 accuracy와 validation 에 대한 accuracy가  비슷한 경향을 나타내지만 조금 차이가 있는 것도 알 수 있었다."
   ]
  },
  {
   "cell_type": "code",
   "execution_count": null,
   "metadata": {},
   "outputs": [],
   "source": []
  }
 ],
 "metadata": {
  "kernelspec": {
   "display_name": "Python 3",
   "language": "python",
   "name": "python3"
  },
  "language_info": {
   "codemirror_mode": {
    "name": "ipython",
    "version": 3
   },
   "file_extension": ".py",
   "mimetype": "text/x-python",
   "name": "python",
   "nbconvert_exporter": "python",
   "pygments_lexer": "ipython3",
   "version": "3.6.5"
  }
 },
 "nbformat": 4,
 "nbformat_minor": 2
}
