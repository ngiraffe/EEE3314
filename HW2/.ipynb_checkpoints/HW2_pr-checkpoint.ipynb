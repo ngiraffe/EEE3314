{
 "cells": [
  {
   "cell_type": "code",
   "execution_count": 64,
   "metadata": {},
   "outputs": [
    {
     "name": "stdout",
     "output_type": "stream",
     "text": [
      "96\n"
     ]
    }
   ],
   "source": [
    "import pandas as pd\n",
    "import numpy as np\n",
    "import matplotlib.pyplot as plt\n",
    "from copy import deepcopy\n",
    "\n",
    "data = pd.read_csv('crime-train.csv')\n",
    "data_np = data.values\n",
    "y = data_np[:,0]\n",
    "X = data_np[:,1:]\n",
    "N = len(data['ViolentCrimesPerPop'].values)\n",
    "X2 = np.c_[np.ones(N), X]\n",
    "\n",
    "w_init = np.random.normal(0,1,96)\n",
    "#w_init = np.zeros(X2.shape[1])\n",
    "\n",
    "\n",
    "print(len(w_init))\n",
    "\n",
    "\n",
    "\n",
    "def Lasso_fit(X, y,lambda_,w):\n",
    "    error_history = []\n",
    "   \n",
    "    def soft_threshold(x, l):\n",
    "        if x  < -l/2:\n",
    "            return x + l/2\n",
    "        elif x > l/2:\n",
    "            return x - l/2\n",
    "        else:\n",
    "            return 0\n",
    "    \n",
    "    \n",
    "    while(1):\n",
    "        prev_w = w.copy()\n",
    "        for j in range(0, len(w)):\n",
    "            \n",
    "          \n",
    "            w[j] = 0.0\n",
    "            r_j = y - np.dot(X, w)\n",
    "            p_j = np.dot(X[:, j], r_j) # Calculate p_j\n",
    "            \n",
    "            w[j] = soft_threshold(p_j, lambda_)/np.sum((X[:, j]**2)) # Applying soft_threshold\n",
    "            #print(w[j])\n",
    "            \n",
    "            \n",
    "        \n",
    "        if np.max(np.abs(w-prev_w))<10**-6:\n",
    "            break\n",
    "       \n",
    "        \n",
    "        error_history.append(np.sum((r_j) ** 2)+lambda_*np.sum(abs(w)))\n",
    "   \n",
    "        \n",
    "        \n",
    "    return w, error_history\n",
    "\n",
    "\n",
    "Final_w, error_history = Lasso_fit(X2,y,150,w_init)\n"
   ]
  },
  {
   "cell_type": "code",
   "execution_count": 65,
   "metadata": {},
   "outputs": [
    {
     "data": {
      "text/plain": [
       "[24332.702324463953,\n",
       " 13828.77244158875,\n",
       " 10184.653559414182,\n",
       " 8110.267074588082,\n",
       " 6888.533868813555,\n",
       " 6028.708823141031,\n",
       " 5366.984802130597,\n",
       " 4819.7084836325885,\n",
       " 4361.991582607606,\n",
       " 3988.791080008503,\n",
       " 3657.1091794196454,\n",
       " 3356.4873014526543,\n",
       " 3068.26010721747,\n",
       " 2812.5488802181912,\n",
       " 2570.76496692515,\n",
       " 2345.9695563878836,\n",
       " 2171.483220723808,\n",
       " 2021.4352860194224,\n",
       " 1882.5389081742014,\n",
       " 1759.2233819056953,\n",
       " 1642.0779183073282,\n",
       " 1529.2785281641784,\n",
       " 1405.0804638049326,\n",
       " 1276.2380355724415,\n",
       " 1168.2205880791691,\n",
       " 1064.748202277113,\n",
       " 961.7963759240886,\n",
       " 885.2650016561445,\n",
       " 790.8016540986127,\n",
       " 694.7917091080253,\n",
       " 598.9141050674896,\n",
       " 509.3321963536298,\n",
       " 415.6382822206351,\n",
       " 331.77081555295683,\n",
       " 273.7942587249711,\n",
       " 221.1123591866128,\n",
       " 169.61306051421724,\n",
       " 123.71687662845727,\n",
       " 100.12277226321348,\n",
       " 91.68270613552977,\n",
       " 91.51651211944214,\n",
       " 91.38098234387022,\n",
       " 91.26334061966303,\n",
       " 91.16179790401556,\n",
       " 91.07288628960427,\n",
       " 90.99357896574375,\n",
       " 90.92169289228772,\n",
       " 90.9130901235713,\n",
       " 90.91295480246328,\n",
       " 90.91286031063807,\n",
       " 90.91280318740877,\n",
       " 90.91277066852278,\n",
       " 90.91275252696266,\n",
       " 90.91274247020286,\n",
       " 90.91273690598703,\n",
       " 90.91273382918727,\n",
       " 90.91273212812546,\n",
       " 90.91273118771169,\n",
       " 90.9127306678218,\n",
       " 90.91273038041182,\n",
       " 90.91273022152357,\n",
       " 90.91273013368577,\n",
       " 90.91273008512661,\n",
       " 90.91273005828177,\n",
       " 90.9127300434412,\n",
       " 90.91273003523692,\n",
       " 90.91273003070137]"
      ]
     },
     "execution_count": 65,
     "metadata": {},
     "output_type": "execute_result"
    }
   ],
   "source": [
    "error_history"
   ]
  },
  {
   "cell_type": "code",
   "execution_count": 66,
   "metadata": {},
   "outputs": [
    {
     "data": {
      "image/png": "[encoded data removed]",
      "text/plain": [
       "<Figure size 432x288 with 1 Axes>"
      ]
     },
     "metadata": {},
     "output_type": "display_data"
    }
   ],
   "source": [
    "x1 = range(0,len(error_history))\n",
    "y = [error_history[v] for v in x1]\n",
    "\n",
    "# Plot the graph\n",
    "plt.plot(x1,y,'c-',lw=2.5)\n",
    "plt.xlabel('# of iterations')\n",
    "plt.ylabel('Training Error')\n",
    "plt.grid(True)\n",
    "plt.show()\n"
   ]
  },
  {
   "cell_type": "code",
   "execution_count": 25,
   "metadata": {},
   "outputs": [
    {
     "name": "stdout",
     "output_type": "stream",
     "text": [
      "0\n"
     ]
    }
   ],
   "source": []
  },
  {
   "cell_type": "code",
   "execution_count": null,
   "metadata": {},
   "outputs": [],
   "source": []
  }
 ],
 "metadata": {
  "kernelspec": {
   "display_name": "Python 3",
   "language": "python",
   "name": "python3"
  },
  "language_info": {
   "codemirror_mode": {
    "name": "ipython",
    "version": 3
   },
   "file_extension": ".py",
   "mimetype": "text/x-python",
   "name": "python",
   "nbconvert_exporter": "python",
   "pygments_lexer": "ipython3",
   "version": "3.6.5"
  }
 },
 "nbformat": 4,
 "nbformat_minor": 2
}
